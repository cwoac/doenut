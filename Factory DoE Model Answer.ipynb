{
 "cells": [
  {
   "cell_type": "markdown",
   "metadata": {},
   "source": [
    "# Factory, model answer"
   ]
  },
  {
   "cell_type": "markdown",
   "metadata": {},
   "source": [
    "First we import the libraries, adding DoENUT in as a path, alternatively, you could copy `doenut.py` into this directory."
   ]
  },
  {
   "cell_type": "code",
   "execution_count": 2,
   "metadata": {
    "pycharm": {
     "is_executing": false
    }
   },
   "outputs": [],
   "source": [
    "# first we import our libraries:\n",
    "\n",
    "import sys\n",
    "sys.path.append(r\"C:\\Users\\eg16993\\OneDrive - University of Bristol\\Documents\\GitHub\\doenut\")\n",
    "import pandas as pd\n",
    "sys.path.append(r\"C:\\Users\\ella_\\OneDrive - University of Bristol\\Documents\\GitHub\\doenut\")\n",
    "\n",
    "import matplotlib.pyplot as plt\n",
    "import numpy as np\n",
    "\n",
    "import warnings\n",
    "warnings.filterwarnings('ignore')\n",
    "\n",
    "import doenut"
   ]
  },
  {
   "cell_type": "markdown",
   "metadata": {},
   "source": [
    "#### 1. Load in our data"
   ]
  },
  {
   "cell_type": "code",
   "execution_count": 3,
   "metadata": {
    "scrolled": true,
    "pycharm": {
     "is_executing": false
    }
   },
   "outputs": [
    {
     "data": {
      "text/plain": "     RUN PRESSURE  TEMP   CATALYST FLOW RATE PURGE COOLING NH3 YIELD  \\\n0    NaN    (ATM)  (OC)  (QUALITY)      (VO)   (%)    (OC)       (%)   \n1    NaN      NaN   NaN        NaN       NaN   NaN     NaN       NaN   \n2    1.0      200   300       BEST     10800    0%    -150     11.52   \n3    2.0      950   300       BEST     10800    0%     -30     17.01   \n4    3.0      200   600       BEST     10800    0%     -30      2.01   \n5    4.0      950   600       BEST     10800    0%    -150      5.85   \n6    5.0      200   300       BEST     16800    0%     -30     11.52   \n7    6.0      950   300       BEST     16800    0%    -150     17.01   \n8    7.0      200   600       BEST     16800    0%    -150      2.01   \n9    8.0      950   600       BEST     16800    0%     -30      5.85   \n10   9.0      200   300       BEST     10800   25%    -150     11.52   \n11  10.0      950   300       BEST     10800   25%     -30     17.01   \n12  11.0      200   600       BEST     10800   25%     -30      2.01   \n13  12.0      950   600       BEST     10800   25%    -150      5.85   \n14  13.0      200   300       BEST     16800   25%     -30     11.52   \n15  14.0      950   300       BEST     16800   25%    -150     17.01   \n16  15.0      200   600       BEST     16800   25%    -150      2.01   \n17  16.0      950   600       BEST     16800   25%     -30      5.85   \n18  17.0      600   450       BEST     13800   15%     -90      9.88   \n\n        TIME TO  TOTAL COST TOTAL OUTPUT NET PROFIT    FACTORY  \n0   EQUILIBRATE     PER TON   (TONS/DAY)        ($)     STATUS  \n1         (MIN)     ($/TON)          NaN        NaN        NaN  \n2         34.09      298.31       161.05    $10,901    RUNNING  \n3        220.36  NO OUTPUT!            0   -$12,000  SHUTDOWN!  \n4         >0.01       521.8        33.52    -$5,222    RUNNING  \n5         >0.01      273.01       243.85    $22,675    RUNNING  \n6         34.09  NO OUTPUT!            0   -$12,000  SHUTDOWN!  \n7        220.36      254.48       486.23    $54,224    RUNNING  \n8         >0.01      423.41        61.98    -$3,558    RUNNING  \n9         >0.01      574.93        29.62    -$6,188    RUNNING  \n10        34.09      333.31       161.05     $5,264    RUNNING  \n11       220.36  NO OUTPUT!            0   -$12,000  SHUTDOWN!  \n12        >0.01       556.8        33.52    -$6,395    RUNNING  \n13        >0.01      308.01       243.85    $14,140    RUNNING  \n14        34.09  NO OUTPUT!            0   -$12,000  SHUTDOWN!  \n15       220.36      289.48       486.23    $37,206    RUNNING  \n16        >0.01      458.41        61.98    -$5,727    RUNNING  \n17        >0.01      609.93        29.62    -$7,225    RUNNING  \n18          0.1      265.82       249.88    $25,032    RUNNING  ",
      "text/html": "<div>\n<style scoped>\n    .dataframe tbody tr th:only-of-type {\n        vertical-align: middle;\n    }\n\n    .dataframe tbody tr th {\n        vertical-align: top;\n    }\n\n    .dataframe thead th {\n        text-align: right;\n    }\n</style>\n<table border=\"1\" class=\"dataframe\">\n  <thead>\n    <tr style=\"text-align: right;\">\n      <th></th>\n      <th>RUN</th>\n      <th>PRESSURE</th>\n      <th>TEMP</th>\n      <th>CATALYST</th>\n      <th>FLOW RATE</th>\n      <th>PURGE</th>\n      <th>COOLING</th>\n      <th>NH3 YIELD</th>\n      <th>TIME TO</th>\n      <th>TOTAL COST</th>\n      <th>TOTAL OUTPUT</th>\n      <th>NET PROFIT</th>\n      <th>FACTORY</th>\n    </tr>\n  </thead>\n  <tbody>\n    <tr>\n      <th>0</th>\n      <td>NaN</td>\n      <td>(ATM)</td>\n      <td>(OC)</td>\n      <td>(QUALITY)</td>\n      <td>(VO)</td>\n      <td>(%)</td>\n      <td>(OC)</td>\n      <td>(%)</td>\n      <td>EQUILIBRATE</td>\n      <td>PER TON</td>\n      <td>(TONS/DAY)</td>\n      <td>($)</td>\n      <td>STATUS</td>\n    </tr>\n    <tr>\n      <th>1</th>\n      <td>NaN</td>\n      <td>NaN</td>\n      <td>NaN</td>\n      <td>NaN</td>\n      <td>NaN</td>\n      <td>NaN</td>\n      <td>NaN</td>\n      <td>NaN</td>\n      <td>(MIN)</td>\n      <td>($/TON)</td>\n      <td>NaN</td>\n      <td>NaN</td>\n      <td>NaN</td>\n    </tr>\n    <tr>\n      <th>2</th>\n      <td>1.0</td>\n      <td>200</td>\n      <td>300</td>\n      <td>BEST</td>\n      <td>10800</td>\n      <td>0%</td>\n      <td>-150</td>\n      <td>11.52</td>\n      <td>34.09</td>\n      <td>298.31</td>\n      <td>161.05</td>\n      <td>$10,901</td>\n      <td>RUNNING</td>\n    </tr>\n    <tr>\n      <th>3</th>\n      <td>2.0</td>\n      <td>950</td>\n      <td>300</td>\n      <td>BEST</td>\n      <td>10800</td>\n      <td>0%</td>\n      <td>-30</td>\n      <td>17.01</td>\n      <td>220.36</td>\n      <td>NO OUTPUT!</td>\n      <td>0</td>\n      <td>-$12,000</td>\n      <td>SHUTDOWN!</td>\n    </tr>\n    <tr>\n      <th>4</th>\n      <td>3.0</td>\n      <td>200</td>\n      <td>600</td>\n      <td>BEST</td>\n      <td>10800</td>\n      <td>0%</td>\n      <td>-30</td>\n      <td>2.01</td>\n      <td>&gt;0.01</td>\n      <td>521.8</td>\n      <td>33.52</td>\n      <td>-$5,222</td>\n      <td>RUNNING</td>\n    </tr>\n    <tr>\n      <th>5</th>\n      <td>4.0</td>\n      <td>950</td>\n      <td>600</td>\n      <td>BEST</td>\n      <td>10800</td>\n      <td>0%</td>\n      <td>-150</td>\n      <td>5.85</td>\n      <td>&gt;0.01</td>\n      <td>273.01</td>\n      <td>243.85</td>\n      <td>$22,675</td>\n      <td>RUNNING</td>\n    </tr>\n    <tr>\n      <th>6</th>\n      <td>5.0</td>\n      <td>200</td>\n      <td>300</td>\n      <td>BEST</td>\n      <td>16800</td>\n      <td>0%</td>\n      <td>-30</td>\n      <td>11.52</td>\n      <td>34.09</td>\n      <td>NO OUTPUT!</td>\n      <td>0</td>\n      <td>-$12,000</td>\n      <td>SHUTDOWN!</td>\n    </tr>\n    <tr>\n      <th>7</th>\n      <td>6.0</td>\n      <td>950</td>\n      <td>300</td>\n      <td>BEST</td>\n      <td>16800</td>\n      <td>0%</td>\n      <td>-150</td>\n      <td>17.01</td>\n      <td>220.36</td>\n      <td>254.48</td>\n      <td>486.23</td>\n      <td>$54,224</td>\n      <td>RUNNING</td>\n    </tr>\n    <tr>\n      <th>8</th>\n      <td>7.0</td>\n      <td>200</td>\n      <td>600</td>\n      <td>BEST</td>\n      <td>16800</td>\n      <td>0%</td>\n      <td>-150</td>\n      <td>2.01</td>\n      <td>&gt;0.01</td>\n      <td>423.41</td>\n      <td>61.98</td>\n      <td>-$3,558</td>\n      <td>RUNNING</td>\n    </tr>\n    <tr>\n      <th>9</th>\n      <td>8.0</td>\n      <td>950</td>\n      <td>600</td>\n      <td>BEST</td>\n      <td>16800</td>\n      <td>0%</td>\n      <td>-30</td>\n      <td>5.85</td>\n      <td>&gt;0.01</td>\n      <td>574.93</td>\n      <td>29.62</td>\n      <td>-$6,188</td>\n      <td>RUNNING</td>\n    </tr>\n    <tr>\n      <th>10</th>\n      <td>9.0</td>\n      <td>200</td>\n      <td>300</td>\n      <td>BEST</td>\n      <td>10800</td>\n      <td>25%</td>\n      <td>-150</td>\n      <td>11.52</td>\n      <td>34.09</td>\n      <td>333.31</td>\n      <td>161.05</td>\n      <td>$5,264</td>\n      <td>RUNNING</td>\n    </tr>\n    <tr>\n      <th>11</th>\n      <td>10.0</td>\n      <td>950</td>\n      <td>300</td>\n      <td>BEST</td>\n      <td>10800</td>\n      <td>25%</td>\n      <td>-30</td>\n      <td>17.01</td>\n      <td>220.36</td>\n      <td>NO OUTPUT!</td>\n      <td>0</td>\n      <td>-$12,000</td>\n      <td>SHUTDOWN!</td>\n    </tr>\n    <tr>\n      <th>12</th>\n      <td>11.0</td>\n      <td>200</td>\n      <td>600</td>\n      <td>BEST</td>\n      <td>10800</td>\n      <td>25%</td>\n      <td>-30</td>\n      <td>2.01</td>\n      <td>&gt;0.01</td>\n      <td>556.8</td>\n      <td>33.52</td>\n      <td>-$6,395</td>\n      <td>RUNNING</td>\n    </tr>\n    <tr>\n      <th>13</th>\n      <td>12.0</td>\n      <td>950</td>\n      <td>600</td>\n      <td>BEST</td>\n      <td>10800</td>\n      <td>25%</td>\n      <td>-150</td>\n      <td>5.85</td>\n      <td>&gt;0.01</td>\n      <td>308.01</td>\n      <td>243.85</td>\n      <td>$14,140</td>\n      <td>RUNNING</td>\n    </tr>\n    <tr>\n      <th>14</th>\n      <td>13.0</td>\n      <td>200</td>\n      <td>300</td>\n      <td>BEST</td>\n      <td>16800</td>\n      <td>25%</td>\n      <td>-30</td>\n      <td>11.52</td>\n      <td>34.09</td>\n      <td>NO OUTPUT!</td>\n      <td>0</td>\n      <td>-$12,000</td>\n      <td>SHUTDOWN!</td>\n    </tr>\n    <tr>\n      <th>15</th>\n      <td>14.0</td>\n      <td>950</td>\n      <td>300</td>\n      <td>BEST</td>\n      <td>16800</td>\n      <td>25%</td>\n      <td>-150</td>\n      <td>17.01</td>\n      <td>220.36</td>\n      <td>289.48</td>\n      <td>486.23</td>\n      <td>$37,206</td>\n      <td>RUNNING</td>\n    </tr>\n    <tr>\n      <th>16</th>\n      <td>15.0</td>\n      <td>200</td>\n      <td>600</td>\n      <td>BEST</td>\n      <td>16800</td>\n      <td>25%</td>\n      <td>-150</td>\n      <td>2.01</td>\n      <td>&gt;0.01</td>\n      <td>458.41</td>\n      <td>61.98</td>\n      <td>-$5,727</td>\n      <td>RUNNING</td>\n    </tr>\n    <tr>\n      <th>17</th>\n      <td>16.0</td>\n      <td>950</td>\n      <td>600</td>\n      <td>BEST</td>\n      <td>16800</td>\n      <td>25%</td>\n      <td>-30</td>\n      <td>5.85</td>\n      <td>&gt;0.01</td>\n      <td>609.93</td>\n      <td>29.62</td>\n      <td>-$7,225</td>\n      <td>RUNNING</td>\n    </tr>\n    <tr>\n      <th>18</th>\n      <td>17.0</td>\n      <td>600</td>\n      <td>450</td>\n      <td>BEST</td>\n      <td>13800</td>\n      <td>15%</td>\n      <td>-90</td>\n      <td>9.88</td>\n      <td>0.1</td>\n      <td>265.82</td>\n      <td>249.88</td>\n      <td>$25,032</td>\n      <td>RUNNING</td>\n    </tr>\n  </tbody>\n</table>\n</div>"
     },
     "metadata": {},
     "output_type": "execute_result",
     "execution_count": 3
    }
   ],
   "source": [
    "df=pd.read_csv('factory_run_1_results.csv')\n",
    "df"
   ]
  },
  {
   "cell_type": "markdown",
   "metadata": {},
   "source": [
    "## 2. Clean up the data\n",
    "\n",
    "Only, lines 2-19 contain actual data. Also, at the same time, lets split our data into inputs and results.\n",
    "\n",
    "We have two targets, the final target, which is the profit per day and yeild, which gives us some information even when no ammonia was captured and produced."
   ]
  },
  {
   "cell_type": "code",
   "execution_count": 4,
   "metadata": {
    "pycharm": {
     "is_executing": false
    }
   },
   "outputs": [
    {
     "data": {
      "text/plain": "Index(['RUN', 'PRESSURE', 'TEMP', 'CATALYST', 'FLOW RATE', 'PURGE', 'COOLING',\n       'NH3 YIELD', 'TIME TO', 'TOTAL COST', 'TOTAL OUTPUT', 'NET PROFIT',\n       'FACTORY'],\n      dtype='object')"
     },
     "metadata": {},
     "output_type": "execute_result",
     "execution_count": 4
    }
   ],
   "source": [
    "df.columns"
   ]
  },
  {
   "cell_type": "code",
   "execution_count": 5,
   "metadata": {
    "pycharm": {
     "is_executing": false
    }
   },
   "outputs": [
    {
     "name": "stdout",
     "text": [
      "[0, 0, 0.0, 0.0, 0.0, 0.0, 0.0, 0.0, 0.0, 0.0, 25.0, 25.0, 25.0, 25.0, 25.0, 25.0, 25.0, 25.0, 15.0]\n"
     ],
     "output_type": "stream"
    }
   ],
   "source": [
    "purge_list=[0,0]\n",
    "for experiment in range(len(df)):\n",
    "    if experiment > 1:\n",
    "        purge = float(df['PURGE'][experiment].split('%')[0])\n",
    "        purge_list.append(purge)\n",
    "\n",
    "print(purge_list)"
   ]
  },
  {
   "cell_type": "code",
   "execution_count": 6,
   "metadata": {
    "pycharm": {
     "is_executing": false
    }
   },
   "outputs": [
    {
     "data": {
      "text/plain": "[0,\n 0,\n 10901.0,\n -12000.0,\n -5222.0,\n 22675.0,\n -12000.0,\n 54224.0,\n -3558.0,\n -6188.0,\n 5264.0,\n -12000.0,\n -6395.0,\n 14140.0,\n -12000.0,\n 37206.0,\n -5727.0,\n -7225.0,\n 25032.0]"
     },
     "metadata": {},
     "output_type": "execute_result",
     "execution_count": 6
    }
   ],
   "source": [
    "pl_list = [0, 0]\n",
    "for experiment in range(len(df)):\n",
    "    if experiment > 1:\n",
    "        b = df['NET PROFIT'][experiment].split(',')[-1]\n",
    "        a = df['NET PROFIT'][experiment].split(',')[0].split('$')\n",
    "        a=''.join(a)\n",
    "        pl = float(''.join([a,b]))\n",
    "        pl_list.append(pl)\n",
    "        \n",
    "pl_list"
   ]
  },
  {
   "cell_type": "code",
   "execution_count": 7,
   "metadata": {
    "pycharm": {
     "is_executing": false
    }
   },
   "outputs": [
    {
     "data": {
      "text/plain": "[300.0,\n 300.0,\n 600.0,\n 600.0,\n 300.0,\n 300.0,\n 600.0,\n 600.0,\n 300.0,\n 300.0,\n 600.0,\n 600.0,\n 300.0,\n 300.0,\n 600.0,\n 600.0,\n 450.0]"
     },
     "metadata": {},
     "output_type": "execute_result",
     "execution_count": 7
    }
   ],
   "source": [
    "[float(x) for x in df['TEMP'][2:]]"
   ]
  },
  {
   "cell_type": "code",
   "execution_count": 8,
   "metadata": {
    "pycharm": {
     "is_executing": false
    }
   },
   "outputs": [],
   "source": [
    "# this makes a new dataframe called inputs\n",
    "inputs = pd.DataFrame({\n",
    "    'P': [float(x) for x in df['PRESSURE'][2:]],\n",
    "    'Temp.': [float(x) for x in df['TEMP'][2:]],\n",
    "    'Flow': [float(x) for x in df['FLOW RATE'][2:]],\n",
    "    'Purge': purge_list[2:],\n",
    "    'Cool': [float(x) for x in df['COOLING'][2:]]})\n",
    "#inputs.reset_index()\n",
    "# this makes a new dataframe called responses\n",
    "\n",
    "responses = pd.DataFrame({'Yield':  [float(x) for x in df[df.columns[7]][2:]],\n",
    "                        'Profit': pl_list[2:]})\n",
    "#responses.reset_index()"
   ]
  },
  {
   "cell_type": "code",
   "execution_count": 9,
   "metadata": {
    "pycharm": {
     "is_executing": false
    }
   },
   "outputs": [
    {
     "data": {
      "text/plain": "Index(['P', 'Temp.', 'Flow', 'Purge', 'Cool'], dtype='object')"
     },
     "metadata": {},
     "output_type": "execute_result",
     "execution_count": 9
    }
   ],
   "source": [
    "orig_inputs = inputs\n",
    "factor_list = orig_inputs.columns\n",
    "\n",
    "factor_list"
   ]
  },
  {
   "cell_type": "code",
   "execution_count": 9,
   "metadata": {
    "pycharm": {
     "is_executing": false
    }
   },
   "outputs": [],
   "source": []
  },
  {
   "cell_type": "markdown",
   "metadata": {},
   "source": [
    "Have a look at the dataframes:"
   ]
  },
  {
   "cell_type": "code",
   "execution_count": 10,
   "metadata": {
    "pycharm": {
     "is_executing": false
    }
   },
   "outputs": [
    {
     "data": {
      "text/plain": "        P  Temp.     Flow  Purge   Cool\n0   200.0  300.0  10800.0    0.0 -150.0\n1   950.0  300.0  10800.0    0.0  -30.0\n2   200.0  600.0  10800.0    0.0  -30.0\n3   950.0  600.0  10800.0    0.0 -150.0\n4   200.0  300.0  16800.0    0.0  -30.0\n5   950.0  300.0  16800.0    0.0 -150.0\n6   200.0  600.0  16800.0    0.0 -150.0\n7   950.0  600.0  16800.0    0.0  -30.0\n8   200.0  300.0  10800.0   25.0 -150.0\n9   950.0  300.0  10800.0   25.0  -30.0\n10  200.0  600.0  10800.0   25.0  -30.0\n11  950.0  600.0  10800.0   25.0 -150.0\n12  200.0  300.0  16800.0   25.0  -30.0\n13  950.0  300.0  16800.0   25.0 -150.0\n14  200.0  600.0  16800.0   25.0 -150.0\n15  950.0  600.0  16800.0   25.0  -30.0\n16  600.0  450.0  13800.0   15.0  -90.0",
      "text/html": "<div>\n<style scoped>\n    .dataframe tbody tr th:only-of-type {\n        vertical-align: middle;\n    }\n\n    .dataframe tbody tr th {\n        vertical-align: top;\n    }\n\n    .dataframe thead th {\n        text-align: right;\n    }\n</style>\n<table border=\"1\" class=\"dataframe\">\n  <thead>\n    <tr style=\"text-align: right;\">\n      <th></th>\n      <th>P</th>\n      <th>Temp.</th>\n      <th>Flow</th>\n      <th>Purge</th>\n      <th>Cool</th>\n    </tr>\n  </thead>\n  <tbody>\n    <tr>\n      <th>0</th>\n      <td>200.0</td>\n      <td>300.0</td>\n      <td>10800.0</td>\n      <td>0.0</td>\n      <td>-150.0</td>\n    </tr>\n    <tr>\n      <th>1</th>\n      <td>950.0</td>\n      <td>300.0</td>\n      <td>10800.0</td>\n      <td>0.0</td>\n      <td>-30.0</td>\n    </tr>\n    <tr>\n      <th>2</th>\n      <td>200.0</td>\n      <td>600.0</td>\n      <td>10800.0</td>\n      <td>0.0</td>\n      <td>-30.0</td>\n    </tr>\n    <tr>\n      <th>3</th>\n      <td>950.0</td>\n      <td>600.0</td>\n      <td>10800.0</td>\n      <td>0.0</td>\n      <td>-150.0</td>\n    </tr>\n    <tr>\n      <th>4</th>\n      <td>200.0</td>\n      <td>300.0</td>\n      <td>16800.0</td>\n      <td>0.0</td>\n      <td>-30.0</td>\n    </tr>\n    <tr>\n      <th>5</th>\n      <td>950.0</td>\n      <td>300.0</td>\n      <td>16800.0</td>\n      <td>0.0</td>\n      <td>-150.0</td>\n    </tr>\n    <tr>\n      <th>6</th>\n      <td>200.0</td>\n      <td>600.0</td>\n      <td>16800.0</td>\n      <td>0.0</td>\n      <td>-150.0</td>\n    </tr>\n    <tr>\n      <th>7</th>\n      <td>950.0</td>\n      <td>600.0</td>\n      <td>16800.0</td>\n      <td>0.0</td>\n      <td>-30.0</td>\n    </tr>\n    <tr>\n      <th>8</th>\n      <td>200.0</td>\n      <td>300.0</td>\n      <td>10800.0</td>\n      <td>25.0</td>\n      <td>-150.0</td>\n    </tr>\n    <tr>\n      <th>9</th>\n      <td>950.0</td>\n      <td>300.0</td>\n      <td>10800.0</td>\n      <td>25.0</td>\n      <td>-30.0</td>\n    </tr>\n    <tr>\n      <th>10</th>\n      <td>200.0</td>\n      <td>600.0</td>\n      <td>10800.0</td>\n      <td>25.0</td>\n      <td>-30.0</td>\n    </tr>\n    <tr>\n      <th>11</th>\n      <td>950.0</td>\n      <td>600.0</td>\n      <td>10800.0</td>\n      <td>25.0</td>\n      <td>-150.0</td>\n    </tr>\n    <tr>\n      <th>12</th>\n      <td>200.0</td>\n      <td>300.0</td>\n      <td>16800.0</td>\n      <td>25.0</td>\n      <td>-30.0</td>\n    </tr>\n    <tr>\n      <th>13</th>\n      <td>950.0</td>\n      <td>300.0</td>\n      <td>16800.0</td>\n      <td>25.0</td>\n      <td>-150.0</td>\n    </tr>\n    <tr>\n      <th>14</th>\n      <td>200.0</td>\n      <td>600.0</td>\n      <td>16800.0</td>\n      <td>25.0</td>\n      <td>-150.0</td>\n    </tr>\n    <tr>\n      <th>15</th>\n      <td>950.0</td>\n      <td>600.0</td>\n      <td>16800.0</td>\n      <td>25.0</td>\n      <td>-30.0</td>\n    </tr>\n    <tr>\n      <th>16</th>\n      <td>600.0</td>\n      <td>450.0</td>\n      <td>13800.0</td>\n      <td>15.0</td>\n      <td>-90.0</td>\n    </tr>\n  </tbody>\n</table>\n</div>"
     },
     "metadata": {},
     "output_type": "execute_result",
     "execution_count": 10
    }
   ],
   "source": [
    "inputs"
   ]
  },
  {
   "cell_type": "code",
   "execution_count": 11,
   "metadata": {
    "pycharm": {
     "is_executing": false
    }
   },
   "outputs": [
    {
     "data": {
      "text/plain": "    Yield   Profit\n0   11.52  10901.0\n1   17.01 -12000.0\n2    2.01  -5222.0\n3    5.85  22675.0\n4   11.52 -12000.0\n5   17.01  54224.0\n6    2.01  -3558.0\n7    5.85  -6188.0\n8   11.52   5264.0\n9   17.01 -12000.0\n10   2.01  -6395.0\n11   5.85  14140.0\n12  11.52 -12000.0\n13  17.01  37206.0\n14   2.01  -5727.0\n15   5.85  -7225.0\n16   9.88  25032.0",
      "text/html": "<div>\n<style scoped>\n    .dataframe tbody tr th:only-of-type {\n        vertical-align: middle;\n    }\n\n    .dataframe tbody tr th {\n        vertical-align: top;\n    }\n\n    .dataframe thead th {\n        text-align: right;\n    }\n</style>\n<table border=\"1\" class=\"dataframe\">\n  <thead>\n    <tr style=\"text-align: right;\">\n      <th></th>\n      <th>Yield</th>\n      <th>Profit</th>\n    </tr>\n  </thead>\n  <tbody>\n    <tr>\n      <th>0</th>\n      <td>11.52</td>\n      <td>10901.0</td>\n    </tr>\n    <tr>\n      <th>1</th>\n      <td>17.01</td>\n      <td>-12000.0</td>\n    </tr>\n    <tr>\n      <th>2</th>\n      <td>2.01</td>\n      <td>-5222.0</td>\n    </tr>\n    <tr>\n      <th>3</th>\n      <td>5.85</td>\n      <td>22675.0</td>\n    </tr>\n    <tr>\n      <th>4</th>\n      <td>11.52</td>\n      <td>-12000.0</td>\n    </tr>\n    <tr>\n      <th>5</th>\n      <td>17.01</td>\n      <td>54224.0</td>\n    </tr>\n    <tr>\n      <th>6</th>\n      <td>2.01</td>\n      <td>-3558.0</td>\n    </tr>\n    <tr>\n      <th>7</th>\n      <td>5.85</td>\n      <td>-6188.0</td>\n    </tr>\n    <tr>\n      <th>8</th>\n      <td>11.52</td>\n      <td>5264.0</td>\n    </tr>\n    <tr>\n      <th>9</th>\n      <td>17.01</td>\n      <td>-12000.0</td>\n    </tr>\n    <tr>\n      <th>10</th>\n      <td>2.01</td>\n      <td>-6395.0</td>\n    </tr>\n    <tr>\n      <th>11</th>\n      <td>5.85</td>\n      <td>14140.0</td>\n    </tr>\n    <tr>\n      <th>12</th>\n      <td>11.52</td>\n      <td>-12000.0</td>\n    </tr>\n    <tr>\n      <th>13</th>\n      <td>17.01</td>\n      <td>37206.0</td>\n    </tr>\n    <tr>\n      <th>14</th>\n      <td>2.01</td>\n      <td>-5727.0</td>\n    </tr>\n    <tr>\n      <th>15</th>\n      <td>5.85</td>\n      <td>-7225.0</td>\n    </tr>\n    <tr>\n      <th>16</th>\n      <td>9.88</td>\n      <td>25032.0</td>\n    </tr>\n  </tbody>\n</table>\n</div>"
     },
     "metadata": {},
     "output_type": "execute_result",
     "execution_count": 11
    }
   ],
   "source": [
    "responses"
   ]
  },
  {
   "cell_type": "code",
   "execution_count": 11,
   "metadata": {
    "pycharm": {
     "is_executing": false
    }
   },
   "outputs": [],
   "source": []
  },
  {
   "cell_type": "code",
   "execution_count": 12,
   "metadata": {
    "pycharm": {
     "is_executing": false
    }
   },
   "outputs": [
    {
     "name": "stdout",
     "text": [
      "R squared for this model is 0.64\n"
     ],
     "output_type": "stream"
    }
   ],
   "source": [
    "original_model, inputs_used, original_model_R2, predictions = doenut.train_model(\n",
    "    inputs, \n",
    "    responses['Profit'], \n",
    "    test_responses=None,\n",
    "    do_scaling_here=False,\n",
    "    fit_intercept=True,\n",
    "    verbose=True)"
   ]
  },
  {
   "cell_type": "code",
   "execution_count": 13,
   "metadata": {
    "pycharm": {
     "is_executing": false
    }
   },
   "outputs": [
    {
     "data": {
      "text/plain": "<Figure size 432x288 with 1 Axes>",
      "image/png": "[encoded data removed]"
     },
     "metadata": {
      "needs_background": "light"
     },
     "output_type": "display_data"
    }
   ],
   "source": [
    "doenut.plot_observed_vs_predicted(responses['Profit'], \n",
    "                               predictions,\n",
    "                               range_x=[],\n",
    "                               label='Yield')"
   ]
  },
  {
   "cell_type": "code",
   "execution_count": 14,
   "metadata": {
    "pycharm": {
     "is_executing": false
    }
   },
   "outputs": [
    {
     "name": "stdout",
     "text": [
      "Input terms are ['P', 'Temp.', 'Flow', 'Purge', 'Cool']\n",
      "Input Responses are ['Profit']\n",
      "\n",
      "Selected Response is Profit\n",
      "Selected input terms:\t['P', 'Temp.', 'Flow', 'Purge', 'Cool']\n",
      "Averaging replicates\n",
      "Input data is 17 points long\n",
      "We are using 17 data points\n",
      "Left out data point 0:\tR2 = 0.641\tAve. Error = -5.59e+03\n",
      "Left out data point 1:\tR2 = 0.687\tAve. Error = -2.47e+04\n",
      "Left out data point 2:\tR2 = 0.682\tAve. Error = 2.16e+04\n",
      "Left out data point 3:\tR2 = 0.62\tAve. Error = 4.69e+02\n",
      "Left out data point 4:\tR2 = 0.625\tAve. Error = -6.07e+03\n",
      "Left out data point 5:\tR2 = 0.584\tAve. Error = 3.39e+04\n",
      "Left out data point 6:\tR2 = 0.689\tAve. Error = -2.27e+04\n",
      "Left out data point 7:\tR2 = 0.642\tAve. Error = -9.51e+03\n",
      "Left out data point 8:\tR2 = 0.647\tAve. Error = -8.24e+03\n",
      "Left out data point 9:\tR2 = 0.657\tAve. Error = -1.83e+04\n",
      "Left out data point 10:\tR2 = 0.702\tAve. Error = 2.59e+04\n",
      "Left out data point 11:\tR2 = 0.64\tAve. Error = -6.8e+03\n",
      "Left out data point 12:\tR2 = 0.621\tAve. Error = 2.27e+02\n",
      "Left out data point 13:\tR2 = 0.584\tAve. Error = 1.3e+04\n",
      "Left out data point 14:\tR2 = 0.674\tAve. Error = -1.98e+04\n",
      "Left out data point 15:\tR2 = 0.633\tAve. Error = -4.84e+03\n",
      "Left out data point 16:\tR2 = 0.687\tAve. Error = 2.11e+04\n",
      "R2 overall is 0.64\n",
      "Mean of test set: 5125.117647058823\n",
      "Mean being used: 5125.117647058823\n",
      "Sum of squares of the residuals (explained variance) is 5050007193.63799\n",
      "Sum of squares total (total variance) is 6145345403.764706\n",
      "Q2 is 0.178\n",
      "Response Profit R2 is 0.64\n",
      "[0, 1, 2, 3, 4]\n",
      "[  7.34749107  -3.46906664   1.66330481  -1.90875358 -12.64750872]\n",
      "p95\n",
      "['P', 'Temp.', 'Flow', 'Purge', 'Cool']\n"
     ],
     "output_type": "stream"
    },
    {
     "data": {
      "text/plain": "<Figure size 432x288 with 1 Axes>",
      "image/png": "[encoded data removed]"
     },
     "metadata": {
      "needs_background": "light"
     },
     "output_type": "display_data"
    },
    {
     "data": {
      "text/plain": "<Figure size 1152x648 with 1 Axes>",
      "image/png": "[encoded data removed]"
     },
     "metadata": {
      "needs_background": "light"
     },
     "output_type": "display_data"
    }
   ],
   "source": [
    "input_selector = range(len(inputs.columns))\n",
    "this_model, R2, temp_tuple, _ = doenut.calulate_R2_and_Q2_for_models(\n",
    "                        inputs, \n",
    "                        responses[['Profit']], \n",
    "                       # input_selector=[2,3,6,7], \n",
    "                        input_selector=input_selector, \n",
    "                        response_selector=[0],\n",
    "                        use_scaled_inputs=True,\n",
    "                        do_scaling_here=True)\n",
    "new_model, predictions, ground_truth, coeffs, R2s, R2, Q2= temp_tuple"
   ]
  },
  {
   "cell_type": "code",
   "execution_count": 15,
   "metadata": {
    "pycharm": {
     "is_executing": false
    }
   },
   "outputs": [
    {
     "data": {
      "text/plain": "        P  Temp.     Flow  Purge   Cool\n0   200.0  300.0  10800.0    0.0 -150.0\n1   950.0  300.0  10800.0    0.0  -30.0\n2   200.0  600.0  10800.0    0.0  -30.0\n3   950.0  600.0  10800.0    0.0 -150.0\n4   200.0  300.0  16800.0    0.0  -30.0\n5   950.0  300.0  16800.0    0.0 -150.0\n6   200.0  600.0  16800.0    0.0 -150.0\n7   950.0  600.0  16800.0    0.0  -30.0\n8   200.0  300.0  10800.0   25.0 -150.0\n9   950.0  300.0  10800.0   25.0  -30.0\n10  200.0  600.0  10800.0   25.0  -30.0\n11  950.0  600.0  10800.0   25.0 -150.0\n12  200.0  300.0  16800.0   25.0  -30.0\n13  950.0  300.0  16800.0   25.0 -150.0\n14  200.0  600.0  16800.0   25.0 -150.0\n15  950.0  600.0  16800.0   25.0  -30.0\n16  600.0  450.0  13800.0   15.0  -90.0",
      "text/html": "<div>\n<style scoped>\n    .dataframe tbody tr th:only-of-type {\n        vertical-align: middle;\n    }\n\n    .dataframe tbody tr th {\n        vertical-align: top;\n    }\n\n    .dataframe thead th {\n        text-align: right;\n    }\n</style>\n<table border=\"1\" class=\"dataframe\">\n  <thead>\n    <tr style=\"text-align: right;\">\n      <th></th>\n      <th>P</th>\n      <th>Temp.</th>\n      <th>Flow</th>\n      <th>Purge</th>\n      <th>Cool</th>\n    </tr>\n  </thead>\n  <tbody>\n    <tr>\n      <th>0</th>\n      <td>200.0</td>\n      <td>300.0</td>\n      <td>10800.0</td>\n      <td>0.0</td>\n      <td>-150.0</td>\n    </tr>\n    <tr>\n      <th>1</th>\n      <td>950.0</td>\n      <td>300.0</td>\n      <td>10800.0</td>\n      <td>0.0</td>\n      <td>-30.0</td>\n    </tr>\n    <tr>\n      <th>2</th>\n      <td>200.0</td>\n      <td>600.0</td>\n      <td>10800.0</td>\n      <td>0.0</td>\n      <td>-30.0</td>\n    </tr>\n    <tr>\n      <th>3</th>\n      <td>950.0</td>\n      <td>600.0</td>\n      <td>10800.0</td>\n      <td>0.0</td>\n      <td>-150.0</td>\n    </tr>\n    <tr>\n      <th>4</th>\n      <td>200.0</td>\n      <td>300.0</td>\n      <td>16800.0</td>\n      <td>0.0</td>\n      <td>-30.0</td>\n    </tr>\n    <tr>\n      <th>5</th>\n      <td>950.0</td>\n      <td>300.0</td>\n      <td>16800.0</td>\n      <td>0.0</td>\n      <td>-150.0</td>\n    </tr>\n    <tr>\n      <th>6</th>\n      <td>200.0</td>\n      <td>600.0</td>\n      <td>16800.0</td>\n      <td>0.0</td>\n      <td>-150.0</td>\n    </tr>\n    <tr>\n      <th>7</th>\n      <td>950.0</td>\n      <td>600.0</td>\n      <td>16800.0</td>\n      <td>0.0</td>\n      <td>-30.0</td>\n    </tr>\n    <tr>\n      <th>8</th>\n      <td>200.0</td>\n      <td>300.0</td>\n      <td>10800.0</td>\n      <td>25.0</td>\n      <td>-150.0</td>\n    </tr>\n    <tr>\n      <th>9</th>\n      <td>950.0</td>\n      <td>300.0</td>\n      <td>10800.0</td>\n      <td>25.0</td>\n      <td>-30.0</td>\n    </tr>\n    <tr>\n      <th>10</th>\n      <td>200.0</td>\n      <td>600.0</td>\n      <td>10800.0</td>\n      <td>25.0</td>\n      <td>-30.0</td>\n    </tr>\n    <tr>\n      <th>11</th>\n      <td>950.0</td>\n      <td>600.0</td>\n      <td>10800.0</td>\n      <td>25.0</td>\n      <td>-150.0</td>\n    </tr>\n    <tr>\n      <th>12</th>\n      <td>200.0</td>\n      <td>300.0</td>\n      <td>16800.0</td>\n      <td>25.0</td>\n      <td>-30.0</td>\n    </tr>\n    <tr>\n      <th>13</th>\n      <td>950.0</td>\n      <td>300.0</td>\n      <td>16800.0</td>\n      <td>25.0</td>\n      <td>-150.0</td>\n    </tr>\n    <tr>\n      <th>14</th>\n      <td>200.0</td>\n      <td>600.0</td>\n      <td>16800.0</td>\n      <td>25.0</td>\n      <td>-150.0</td>\n    </tr>\n    <tr>\n      <th>15</th>\n      <td>950.0</td>\n      <td>600.0</td>\n      <td>16800.0</td>\n      <td>25.0</td>\n      <td>-30.0</td>\n    </tr>\n    <tr>\n      <th>16</th>\n      <td>600.0</td>\n      <td>450.0</td>\n      <td>13800.0</td>\n      <td>15.0</td>\n      <td>-90.0</td>\n    </tr>\n  </tbody>\n</table>\n</div>"
     },
     "metadata": {},
     "output_type": "execute_result",
     "execution_count": 15
    }
   ],
   "source": [
    "orig_inputs"
   ]
  },
  {
   "cell_type": "code",
   "execution_count": 16,
   "metadata": {
    "pycharm": {
     "is_executing": false
    }
   },
   "outputs": [],
   "source": [
    "sat_source_list = []\n",
    "source_list = []\n",
    "sat_inputs_orig, sat_source_list = doenut.add_higher_order_terms(inputs,\n",
    "                          add_squares=True,\n",
    "                          add_interactions=True,\n",
    "                          column_list=[],\n",
    "                          verbose= False)"
   ]
  },
  {
   "cell_type": "code",
   "execution_count": 17,
   "metadata": {
    "pycharm": {
     "is_executing": false
    }
   },
   "outputs": [
    {
     "data": {
      "text/plain": "        P  Temp.     Flow  Purge   Cool      P**2  Temp.**2      Flow**2  \\\n0   200.0  300.0  10800.0    0.0 -150.0   40000.0   90000.0  116640000.0   \n1   950.0  300.0  10800.0    0.0  -30.0  902500.0   90000.0  116640000.0   \n2   200.0  600.0  10800.0    0.0  -30.0   40000.0  360000.0  116640000.0   \n3   950.0  600.0  10800.0    0.0 -150.0  902500.0  360000.0  116640000.0   \n4   200.0  300.0  16800.0    0.0  -30.0   40000.0   90000.0  282240000.0   \n5   950.0  300.0  16800.0    0.0 -150.0  902500.0   90000.0  282240000.0   \n6   200.0  600.0  16800.0    0.0 -150.0   40000.0  360000.0  282240000.0   \n7   950.0  600.0  16800.0    0.0  -30.0  902500.0  360000.0  282240000.0   \n8   200.0  300.0  10800.0   25.0 -150.0   40000.0   90000.0  116640000.0   \n9   950.0  300.0  10800.0   25.0  -30.0  902500.0   90000.0  116640000.0   \n10  200.0  600.0  10800.0   25.0  -30.0   40000.0  360000.0  116640000.0   \n11  950.0  600.0  10800.0   25.0 -150.0  902500.0  360000.0  116640000.0   \n12  200.0  300.0  16800.0   25.0  -30.0   40000.0   90000.0  282240000.0   \n13  950.0  300.0  16800.0   25.0 -150.0  902500.0   90000.0  282240000.0   \n14  200.0  600.0  16800.0   25.0 -150.0   40000.0  360000.0  282240000.0   \n15  950.0  600.0  16800.0   25.0  -30.0  902500.0  360000.0  282240000.0   \n16  600.0  450.0  13800.0   15.0  -90.0  360000.0  202500.0  190440000.0   \n\n    Purge**2  Cool**2   P*Temp.      P*Flow  P*Purge    P*Cool  Temp.*Flow  \\\n0        0.0  22500.0   60000.0   2160000.0      0.0  -30000.0   3240000.0   \n1        0.0    900.0  285000.0  10260000.0      0.0  -28500.0   3240000.0   \n2        0.0    900.0  120000.0   2160000.0      0.0   -6000.0   6480000.0   \n3        0.0  22500.0  570000.0  10260000.0      0.0 -142500.0   6480000.0   \n4        0.0    900.0   60000.0   3360000.0      0.0   -6000.0   5040000.0   \n5        0.0  22500.0  285000.0  15960000.0      0.0 -142500.0   5040000.0   \n6        0.0  22500.0  120000.0   3360000.0      0.0  -30000.0  10080000.0   \n7        0.0    900.0  570000.0  15960000.0      0.0  -28500.0  10080000.0   \n8      625.0  22500.0   60000.0   2160000.0   5000.0  -30000.0   3240000.0   \n9      625.0    900.0  285000.0  10260000.0  23750.0  -28500.0   3240000.0   \n10     625.0    900.0  120000.0   2160000.0   5000.0   -6000.0   6480000.0   \n11     625.0  22500.0  570000.0  10260000.0  23750.0 -142500.0   6480000.0   \n12     625.0    900.0   60000.0   3360000.0   5000.0   -6000.0   5040000.0   \n13     625.0  22500.0  285000.0  15960000.0  23750.0 -142500.0   5040000.0   \n14     625.0  22500.0  120000.0   3360000.0   5000.0  -30000.0  10080000.0   \n15     625.0    900.0  570000.0  15960000.0  23750.0  -28500.0  10080000.0   \n16     225.0   8100.0  270000.0   8280000.0   9000.0  -54000.0   6210000.0   \n\n    Temp.*Purge  Temp.*Cool  Flow*Purge  Flow*Cool  Purge*Cool  \n0           0.0    -45000.0         0.0 -1620000.0        -0.0  \n1           0.0     -9000.0         0.0  -324000.0        -0.0  \n2           0.0    -18000.0         0.0  -324000.0        -0.0  \n3           0.0    -90000.0         0.0 -1620000.0        -0.0  \n4           0.0     -9000.0         0.0  -504000.0        -0.0  \n5           0.0    -45000.0         0.0 -2520000.0        -0.0  \n6           0.0    -90000.0         0.0 -2520000.0        -0.0  \n7           0.0    -18000.0         0.0  -504000.0        -0.0  \n8        7500.0    -45000.0    270000.0 -1620000.0     -3750.0  \n9        7500.0     -9000.0    270000.0  -324000.0      -750.0  \n10      15000.0    -18000.0    270000.0  -324000.0      -750.0  \n11      15000.0    -90000.0    270000.0 -1620000.0     -3750.0  \n12       7500.0     -9000.0    420000.0  -504000.0      -750.0  \n13       7500.0    -45000.0    420000.0 -2520000.0     -3750.0  \n14      15000.0    -90000.0    420000.0 -2520000.0     -3750.0  \n15      15000.0    -18000.0    420000.0  -504000.0      -750.0  \n16       6750.0    -40500.0    207000.0 -1242000.0     -1350.0  ",
      "text/html": "<div>\n<style scoped>\n    .dataframe tbody tr th:only-of-type {\n        vertical-align: middle;\n    }\n\n    .dataframe tbody tr th {\n        vertical-align: top;\n    }\n\n    .dataframe thead th {\n        text-align: right;\n    }\n</style>\n<table border=\"1\" class=\"dataframe\">\n  <thead>\n    <tr style=\"text-align: right;\">\n      <th></th>\n      <th>P</th>\n      <th>Temp.</th>\n      <th>Flow</th>\n      <th>Purge</th>\n      <th>Cool</th>\n      <th>P**2</th>\n      <th>Temp.**2</th>\n      <th>Flow**2</th>\n      <th>Purge**2</th>\n      <th>Cool**2</th>\n      <th>P*Temp.</th>\n      <th>P*Flow</th>\n      <th>P*Purge</th>\n      <th>P*Cool</th>\n      <th>Temp.*Flow</th>\n      <th>Temp.*Purge</th>\n      <th>Temp.*Cool</th>\n      <th>Flow*Purge</th>\n      <th>Flow*Cool</th>\n      <th>Purge*Cool</th>\n    </tr>\n  </thead>\n  <tbody>\n    <tr>\n      <th>0</th>\n      <td>200.0</td>\n      <td>300.0</td>\n      <td>10800.0</td>\n      <td>0.0</td>\n      <td>-150.0</td>\n      <td>40000.0</td>\n      <td>90000.0</td>\n      <td>116640000.0</td>\n      <td>0.0</td>\n      <td>22500.0</td>\n      <td>60000.0</td>\n      <td>2160000.0</td>\n      <td>0.0</td>\n      <td>-30000.0</td>\n      <td>3240000.0</td>\n      <td>0.0</td>\n      <td>-45000.0</td>\n      <td>0.0</td>\n      <td>-1620000.0</td>\n      <td>-0.0</td>\n    </tr>\n    <tr>\n      <th>1</th>\n      <td>950.0</td>\n      <td>300.0</td>\n      <td>10800.0</td>\n      <td>0.0</td>\n      <td>-30.0</td>\n      <td>902500.0</td>\n      <td>90000.0</td>\n      <td>116640000.0</td>\n      <td>0.0</td>\n      <td>900.0</td>\n      <td>285000.0</td>\n      <td>10260000.0</td>\n      <td>0.0</td>\n      <td>-28500.0</td>\n      <td>3240000.0</td>\n      <td>0.0</td>\n      <td>-9000.0</td>\n      <td>0.0</td>\n      <td>-324000.0</td>\n      <td>-0.0</td>\n    </tr>\n    <tr>\n      <th>2</th>\n      <td>200.0</td>\n      <td>600.0</td>\n      <td>10800.0</td>\n      <td>0.0</td>\n      <td>-30.0</td>\n      <td>40000.0</td>\n      <td>360000.0</td>\n      <td>116640000.0</td>\n      <td>0.0</td>\n      <td>900.0</td>\n      <td>120000.0</td>\n      <td>2160000.0</td>\n      <td>0.0</td>\n      <td>-6000.0</td>\n      <td>6480000.0</td>\n      <td>0.0</td>\n      <td>-18000.0</td>\n      <td>0.0</td>\n      <td>-324000.0</td>\n      <td>-0.0</td>\n    </tr>\n    <tr>\n      <th>3</th>\n      <td>950.0</td>\n      <td>600.0</td>\n      <td>10800.0</td>\n      <td>0.0</td>\n      <td>-150.0</td>\n      <td>902500.0</td>\n      <td>360000.0</td>\n      <td>116640000.0</td>\n      <td>0.0</td>\n      <td>22500.0</td>\n      <td>570000.0</td>\n      <td>10260000.0</td>\n      <td>0.0</td>\n      <td>-142500.0</td>\n      <td>6480000.0</td>\n      <td>0.0</td>\n      <td>-90000.0</td>\n      <td>0.0</td>\n      <td>-1620000.0</td>\n      <td>-0.0</td>\n    </tr>\n    <tr>\n      <th>4</th>\n      <td>200.0</td>\n      <td>300.0</td>\n      <td>16800.0</td>\n      <td>0.0</td>\n      <td>-30.0</td>\n      <td>40000.0</td>\n      <td>90000.0</td>\n      <td>282240000.0</td>\n      <td>0.0</td>\n      <td>900.0</td>\n      <td>60000.0</td>\n      <td>3360000.0</td>\n      <td>0.0</td>\n      <td>-6000.0</td>\n      <td>5040000.0</td>\n      <td>0.0</td>\n      <td>-9000.0</td>\n      <td>0.0</td>\n      <td>-504000.0</td>\n      <td>-0.0</td>\n    </tr>\n    <tr>\n      <th>5</th>\n      <td>950.0</td>\n      <td>300.0</td>\n      <td>16800.0</td>\n      <td>0.0</td>\n      <td>-150.0</td>\n      <td>902500.0</td>\n      <td>90000.0</td>\n      <td>282240000.0</td>\n      <td>0.0</td>\n      <td>22500.0</td>\n      <td>285000.0</td>\n      <td>15960000.0</td>\n      <td>0.0</td>\n      <td>-142500.0</td>\n      <td>5040000.0</td>\n      <td>0.0</td>\n      <td>-45000.0</td>\n      <td>0.0</td>\n      <td>-2520000.0</td>\n      <td>-0.0</td>\n    </tr>\n    <tr>\n      <th>6</th>\n      <td>200.0</td>\n      <td>600.0</td>\n      <td>16800.0</td>\n      <td>0.0</td>\n      <td>-150.0</td>\n      <td>40000.0</td>\n      <td>360000.0</td>\n      <td>282240000.0</td>\n      <td>0.0</td>\n      <td>22500.0</td>\n      <td>120000.0</td>\n      <td>3360000.0</td>\n      <td>0.0</td>\n      <td>-30000.0</td>\n      <td>10080000.0</td>\n      <td>0.0</td>\n      <td>-90000.0</td>\n      <td>0.0</td>\n      <td>-2520000.0</td>\n      <td>-0.0</td>\n    </tr>\n    <tr>\n      <th>7</th>\n      <td>950.0</td>\n      <td>600.0</td>\n      <td>16800.0</td>\n      <td>0.0</td>\n      <td>-30.0</td>\n      <td>902500.0</td>\n      <td>360000.0</td>\n      <td>282240000.0</td>\n      <td>0.0</td>\n      <td>900.0</td>\n      <td>570000.0</td>\n      <td>15960000.0</td>\n      <td>0.0</td>\n      <td>-28500.0</td>\n      <td>10080000.0</td>\n      <td>0.0</td>\n      <td>-18000.0</td>\n      <td>0.0</td>\n      <td>-504000.0</td>\n      <td>-0.0</td>\n    </tr>\n    <tr>\n      <th>8</th>\n      <td>200.0</td>\n      <td>300.0</td>\n      <td>10800.0</td>\n      <td>25.0</td>\n      <td>-150.0</td>\n      <td>40000.0</td>\n      <td>90000.0</td>\n      <td>116640000.0</td>\n      <td>625.0</td>\n      <td>22500.0</td>\n      <td>60000.0</td>\n      <td>2160000.0</td>\n      <td>5000.0</td>\n      <td>-30000.0</td>\n      <td>3240000.0</td>\n      <td>7500.0</td>\n      <td>-45000.0</td>\n      <td>270000.0</td>\n      <td>-1620000.0</td>\n      <td>-3750.0</td>\n    </tr>\n    <tr>\n      <th>9</th>\n      <td>950.0</td>\n      <td>300.0</td>\n      <td>10800.0</td>\n      <td>25.0</td>\n      <td>-30.0</td>\n      <td>902500.0</td>\n      <td>90000.0</td>\n      <td>116640000.0</td>\n      <td>625.0</td>\n      <td>900.0</td>\n      <td>285000.0</td>\n      <td>10260000.0</td>\n      <td>23750.0</td>\n      <td>-28500.0</td>\n      <td>3240000.0</td>\n      <td>7500.0</td>\n      <td>-9000.0</td>\n      <td>270000.0</td>\n      <td>-324000.0</td>\n      <td>-750.0</td>\n    </tr>\n    <tr>\n      <th>10</th>\n      <td>200.0</td>\n      <td>600.0</td>\n      <td>10800.0</td>\n      <td>25.0</td>\n      <td>-30.0</td>\n      <td>40000.0</td>\n      <td>360000.0</td>\n      <td>116640000.0</td>\n      <td>625.0</td>\n      <td>900.0</td>\n      <td>120000.0</td>\n      <td>2160000.0</td>\n      <td>5000.0</td>\n      <td>-6000.0</td>\n      <td>6480000.0</td>\n      <td>15000.0</td>\n      <td>-18000.0</td>\n      <td>270000.0</td>\n      <td>-324000.0</td>\n      <td>-750.0</td>\n    </tr>\n    <tr>\n      <th>11</th>\n      <td>950.0</td>\n      <td>600.0</td>\n      <td>10800.0</td>\n      <td>25.0</td>\n      <td>-150.0</td>\n      <td>902500.0</td>\n      <td>360000.0</td>\n      <td>116640000.0</td>\n      <td>625.0</td>\n      <td>22500.0</td>\n      <td>570000.0</td>\n      <td>10260000.0</td>\n      <td>23750.0</td>\n      <td>-142500.0</td>\n      <td>6480000.0</td>\n      <td>15000.0</td>\n      <td>-90000.0</td>\n      <td>270000.0</td>\n      <td>-1620000.0</td>\n      <td>-3750.0</td>\n    </tr>\n    <tr>\n      <th>12</th>\n      <td>200.0</td>\n      <td>300.0</td>\n      <td>16800.0</td>\n      <td>25.0</td>\n      <td>-30.0</td>\n      <td>40000.0</td>\n      <td>90000.0</td>\n      <td>282240000.0</td>\n      <td>625.0</td>\n      <td>900.0</td>\n      <td>60000.0</td>\n      <td>3360000.0</td>\n      <td>5000.0</td>\n      <td>-6000.0</td>\n      <td>5040000.0</td>\n      <td>7500.0</td>\n      <td>-9000.0</td>\n      <td>420000.0</td>\n      <td>-504000.0</td>\n      <td>-750.0</td>\n    </tr>\n    <tr>\n      <th>13</th>\n      <td>950.0</td>\n      <td>300.0</td>\n      <td>16800.0</td>\n      <td>25.0</td>\n      <td>-150.0</td>\n      <td>902500.0</td>\n      <td>90000.0</td>\n      <td>282240000.0</td>\n      <td>625.0</td>\n      <td>22500.0</td>\n      <td>285000.0</td>\n      <td>15960000.0</td>\n      <td>23750.0</td>\n      <td>-142500.0</td>\n      <td>5040000.0</td>\n      <td>7500.0</td>\n      <td>-45000.0</td>\n      <td>420000.0</td>\n      <td>-2520000.0</td>\n      <td>-3750.0</td>\n    </tr>\n    <tr>\n      <th>14</th>\n      <td>200.0</td>\n      <td>600.0</td>\n      <td>16800.0</td>\n      <td>25.0</td>\n      <td>-150.0</td>\n      <td>40000.0</td>\n      <td>360000.0</td>\n      <td>282240000.0</td>\n      <td>625.0</td>\n      <td>22500.0</td>\n      <td>120000.0</td>\n      <td>3360000.0</td>\n      <td>5000.0</td>\n      <td>-30000.0</td>\n      <td>10080000.0</td>\n      <td>15000.0</td>\n      <td>-90000.0</td>\n      <td>420000.0</td>\n      <td>-2520000.0</td>\n      <td>-3750.0</td>\n    </tr>\n    <tr>\n      <th>15</th>\n      <td>950.0</td>\n      <td>600.0</td>\n      <td>16800.0</td>\n      <td>25.0</td>\n      <td>-30.0</td>\n      <td>902500.0</td>\n      <td>360000.0</td>\n      <td>282240000.0</td>\n      <td>625.0</td>\n      <td>900.0</td>\n      <td>570000.0</td>\n      <td>15960000.0</td>\n      <td>23750.0</td>\n      <td>-28500.0</td>\n      <td>10080000.0</td>\n      <td>15000.0</td>\n      <td>-18000.0</td>\n      <td>420000.0</td>\n      <td>-504000.0</td>\n      <td>-750.0</td>\n    </tr>\n    <tr>\n      <th>16</th>\n      <td>600.0</td>\n      <td>450.0</td>\n      <td>13800.0</td>\n      <td>15.0</td>\n      <td>-90.0</td>\n      <td>360000.0</td>\n      <td>202500.0</td>\n      <td>190440000.0</td>\n      <td>225.0</td>\n      <td>8100.0</td>\n      <td>270000.0</td>\n      <td>8280000.0</td>\n      <td>9000.0</td>\n      <td>-54000.0</td>\n      <td>6210000.0</td>\n      <td>6750.0</td>\n      <td>-40500.0</td>\n      <td>207000.0</td>\n      <td>-1242000.0</td>\n      <td>-1350.0</td>\n    </tr>\n  </tbody>\n</table>\n</div>"
     },
     "metadata": {},
     "output_type": "execute_result",
     "execution_count": 17
    }
   ],
   "source": [
    "sat_inputs_orig"
   ]
  },
  {
   "cell_type": "code",
   "execution_count": 18,
   "metadata": {
    "pycharm": {
     "is_executing": false
    }
   },
   "outputs": [
    {
     "name": "stdout",
     "text": [
      "Selected input terms:\t['P', 'Temp.', 'Flow', 'Purge', 'Cool', 'P**2', 'Temp.**2', 'Flow**2', 'Purge**2', 'Cool**2', 'P*Temp.', 'P*Flow', 'P*Purge', 'P*Cool', 'Temp.*Flow', 'Temp.*Purge', 'Temp.*Cool', 'Flow*Purge', 'Flow*Cool', 'Purge*Cool']\n",
      "Averaging replicates\n",
      "Input data is 17 points long\n",
      "We are using 17 data points\n",
      "Left out data point 0:\tR2 = 0.995\tAve. Error = -2.96e+03\n",
      "Left out data point 1:\tR2 = 0.997\tAve. Error = -8.96e+03\n",
      "Left out data point 2:\tR2 = 0.999\tAve. Error = 1.24e+04\n",
      "Left out data point 3:\tR2 = 0.994\tAve. Error = -4.76e+02\n",
      "Left out data point 4:\tR2 = 0.994\tAve. Error = -4.76e+02\n",
      "Left out data point 5:\tR2 = 0.999\tAve. Error = 1.24e+04\n",
      "Left out data point 6:\tR2 = 0.997\tAve. Error = -8.96e+03\n",
      "Left out data point 7:\tR2 = 0.995\tAve. Error = -2.96e+03\n",
      "Left out data point 8:\tR2 = 0.995\tAve. Error = 2.96e+03\n",
      "Left out data point 9:\tR2 = 0.997\tAve. Error = 8.96e+03\n",
      "Left out data point 10:\tR2 = 0.999\tAve. Error = -1.24e+04\n",
      "Left out data point 11:\tR2 = 0.994\tAve. Error = 4.76e+02\n",
      "Left out data point 12:\tR2 = 0.994\tAve. Error = 4.76e+02\n",
      "Left out data point 13:\tR2 = 0.999\tAve. Error = -1.24e+04\n",
      "Left out data point 14:\tR2 = 0.997\tAve. Error = 8.96e+03\n",
      "Left out data point 15:\tR2 = 0.995\tAve. Error = 2.96e+03\n",
      "Left out data point 16:\tR2 = 0.994\tAve. Error = 2.26e+04\n",
      "R2 overall is 0.994\n",
      "Mean of test set: 5125.117647058823\n",
      "Mean being used: 5125.117647058823\n",
      "Sum of squares of the residuals (explained variance) is 1484556797.275402\n",
      "Sum of squares total (total variance) is 6145345403.764706\n",
      "Q2 is 0.758\n",
      "[0, 1, 2, 3, 4, 5, 6, 7, 8, 9, 10, 11, 12, 13, 14, 15, 16, 17, 18, 19]\n",
      "[  1.25306962   7.11379047   2.11312542   3.82547541  -6.78594611\n",
      "  -5.01631432  -2.27660597  -4.1607204   -3.69115095  -2.50497266\n",
      "   0.36882115  11.07279902  -2.32877925 -16.79564447  -1.19514006\n",
      "   1.28809486   7.06118971  -0.64517142  -6.8157383    4.11896796]\n",
      "p95\n",
      "['P', 'Temp.', 'Flow', 'Purge', 'Cool', 'P**2', 'Temp.**2', 'Flow**2', 'Purge**2', 'Cool**2', 'P*Temp.', 'P*Flow', 'P*Purge', 'P*Cool', 'Temp.*Flow', 'Temp.*Purge', 'Temp.*Cool', 'Flow*Purge', 'Flow*Cool', 'Purge*Cool']\n",
      "Selected terms ['P', 'Temp.', 'Flow', 'Purge', 'Cool', 'P**2', 'Temp.**2', 'Flow**2', 'Purge**2', 'Cool**2', 'P*Temp.', 'P*Flow', 'P*Purge', 'P*Cool', 'Temp.*Flow', 'Temp.*Purge', 'Temp.*Cool', 'Flow*Purge', 'Flow*Cool', 'Purge*Cool']\n",
      "Source List: ['P', 'Temp.', 'Flow', 'Purge', 'Cool', 0, 1, 2, 3, 4, [0, 1], [0, 2], [0, 3], [0, 4], [1, 2], [1, 3], [1, 4], [2, 3], [2, 4], [3, 4]]\n",
      "{0: {5, 10, 11, 12, 13}, 1: {6, 10, 14, 15, 16}, 2: {7, 11, 14, 17, 18}, 3: {8, 12, 15, 17, 19}, 4: {9, 13, 16, 18, 19}, 5: set(), 6: set(), 7: set(), 8: set(), 9: set(), 10: set(), 11: set(), 12: set(), 13: set(), 14: set(), 15: set(), 16: set(), 17: set(), 18: set(), 19: set()}\n",
      "[(10, 0.36882115054205467), (17, 0.6451714239828804), (14, 1.1951400558226613), (0, 1.253069615467619), (15, 1.2880948639100704)]\n",
      "removing term P*Temp. (10) with error 0.36882115054205467\n",
      "output_indices are [0, 1, 2, 3, 4, 5, 6, 7, 8, 9, 11, 12, 13, 14, 15, 16, 17, 18, 19]\n",
      "Selected input terms:\t['P', 'Temp.', 'Flow', 'Purge', 'Cool', 'P**2', 'Temp.**2', 'Flow**2', 'Purge**2', 'Cool**2', 'P*Flow', 'P*Purge', 'P*Cool', 'Temp.*Flow', 'Temp.*Purge', 'Temp.*Cool', 'Flow*Purge', 'Flow*Cool', 'Purge*Cool']\n",
      "Averaging replicates\n",
      "Input data is 17 points long\n",
      "We are using 17 data points\n",
      "Left out data point 0:\tR2 = 0.995\tAve. Error = -2.96e+03\n",
      "Left out data point 1:\tR2 = 0.997\tAve. Error = -8.96e+03\n",
      "Left out data point 2:\tR2 = 0.999\tAve. Error = 1.24e+04\n",
      "Left out data point 3:\tR2 = 0.994\tAve. Error = -4.76e+02\n",
      "Left out data point 4:\tR2 = 0.994\tAve. Error = -4.76e+02\n",
      "Left out data point 5:\tR2 = 0.999\tAve. Error = 1.24e+04\n",
      "Left out data point 6:\tR2 = 0.997\tAve. Error = -8.96e+03\n",
      "Left out data point 7:\tR2 = 0.995\tAve. Error = -2.96e+03\n",
      "Left out data point 8:\tR2 = 0.995\tAve. Error = 2.96e+03\n",
      "Left out data point 9:\tR2 = 0.997\tAve. Error = 8.96e+03\n",
      "Left out data point 10:\tR2 = 0.999\tAve. Error = -1.24e+04\n",
      "Left out data point 11:\tR2 = 0.994\tAve. Error = 4.76e+02\n",
      "Left out data point 12:\tR2 = 0.994\tAve. Error = 4.76e+02\n",
      "Left out data point 13:\tR2 = 0.999\tAve. Error = -1.24e+04\n",
      "Left out data point 14:\tR2 = 0.997\tAve. Error = 8.96e+03\n",
      "Left out data point 15:\tR2 = 0.995\tAve. Error = 2.96e+03\n",
      "Left out data point 16:\tR2 = 0.994\tAve. Error = 2.17e+04\n",
      "R2 overall is 0.994\n",
      "Mean of test set: 5125.117647058823\n",
      "Mean being used: 5125.117647058823\n",
      "Sum of squares of the residuals (explained variance) is 1441280056.8338246\n",
      "Sum of squares total (total variance) is 6145345403.764706\n",
      "Q2 is 0.765\n",
      "[0, 1, 2, 3, 4, 5, 6, 7, 8, 9, 10, 11, 12, 13, 14, 15, 16, 17, 18]\n",
      "[  1.19066062   6.8002752    1.69896309   3.78976886  -4.9481041\n",
      "  -5.29855244  -2.35390278  -4.42824778  -3.67289423  -2.77328902\n",
      "   9.43719155  -2.32877925 -16.91237789  -0.81836908   1.28809486\n",
      "   6.03553243  -0.64517142  -4.0941079    4.11896796]\n",
      "p95\n",
      "['P', 'Temp.', 'Flow', 'Purge', 'Cool', 'P**2', 'Temp.**2', 'Flow**2', 'Purge**2', 'Cool**2', 'P*Flow', 'P*Purge', 'P*Cool', 'Temp.*Flow', 'Temp.*Purge', 'Temp.*Cool', 'Flow*Purge', 'Flow*Cool', 'Purge*Cool']\n",
      "Selected terms ['P', 'Temp.', 'Flow', 'Purge', 'Cool', 'P**2', 'Temp.**2', 'Flow**2', 'Purge**2', 'Cool**2', 'P*Flow', 'P*Purge', 'P*Cool', 'Temp.*Flow', 'Temp.*Purge', 'Temp.*Cool', 'Flow*Purge', 'Flow*Cool', 'Purge*Cool']\n",
      "Source List: ['P', 'Temp.', 'Flow', 'Purge', 'Cool', 0, 1, 2, 3, 4, [0, 1], [0, 2], [0, 3], [0, 4], [1, 2], [1, 3], [1, 4], [2, 3], [2, 4], [3, 4]]\n",
      "{0: {13, 11, 12, 5}, 1: {16, 15, 6, 14}, 2: {7, 11, 14, 17, 18}, 3: {8, 12, 15, 17, 19}, 4: {9, 13, 16, 18, 19}, 5: set(), 6: set(), 7: set(), 8: set(), 9: set(), 11: set(), 12: set(), 13: set(), 14: set(), 15: set(), 16: set(), 17: set(), 18: set(), 19: set()}\n",
      "[(17, 0.6451714239828812), (14, 0.8183690834734528), (0, 1.1906606248050722), (15, 1.288094863910073), (2, 1.6989630932300979)]\n",
      "removing term Flow*Purge (17) with error 0.6451714239828812\n",
      "output_indices are [0, 1, 2, 3, 4, 5, 6, 7, 8, 9, 11, 12, 13, 14, 15, 16, 18, 19]\n",
      "Selected input terms:\t['P', 'Temp.', 'Flow', 'Purge', 'Cool', 'P**2', 'Temp.**2', 'Flow**2', 'Purge**2', 'Cool**2', 'P*Flow', 'P*Purge', 'P*Cool', 'Temp.*Flow', 'Temp.*Purge', 'Temp.*Cool', 'Flow*Cool', 'Purge*Cool']\n",
      "Averaging replicates\n",
      "Input data is 17 points long\n",
      "We are using 17 data points\n",
      "Left out data point 0:\tR2 = 0.995\tAve. Error = -3.44e+03\n",
      "Left out data point 1:\tR2 = 0.997\tAve. Error = -7.94e+03\n",
      "Left out data point 2:\tR2 = 0.997\tAve. Error = 8.08e+03\n",
      "Left out data point 3:\tR2 = 0.994\tAve. Error = -1.58e+03\n",
      "Left out data point 4:\tR2 = 0.994\tAve. Error = 8.62e+02\n",
      "Left out data point 5:\tR2 = 0.998\tAve. Error = 1.05e+04\n",
      "Left out data point 6:\tR2 = 0.995\tAve. Error = -5.5e+03\n",
      "Left out data point 7:\tR2 = 0.994\tAve. Error = -9.98e+02\n",
      "Left out data point 8:\tR2 = 0.995\tAve. Error = 3.44e+03\n",
      "Left out data point 9:\tR2 = 0.997\tAve. Error = 7.94e+03\n",
      "Left out data point 10:\tR2 = 0.997\tAve. Error = -8.08e+03\n",
      "Left out data point 11:\tR2 = 0.994\tAve. Error = 1.58e+03\n",
      "Left out data point 12:\tR2 = 0.994\tAve. Error = -8.62e+02\n",
      "Left out data point 13:\tR2 = 0.998\tAve. Error = -1.05e+04\n",
      "Left out data point 14:\tR2 = 0.995\tAve. Error = 5.5e+03\n",
      "Left out data point 15:\tR2 = 0.994\tAve. Error = 9.99e+02\n",
      "Left out data point 16:\tR2 = 0.994\tAve. Error = 2.13e+04\n",
      "R2 overall is 0.994\n",
      "Mean of test set: 5125.117647058823\n",
      "Mean being used: 5125.117647058823\n",
      "Sum of squares of the residuals (explained variance) is 1024938878.8304135\n",
      "Sum of squares total (total variance) is 6145345403.764706\n",
      "Q2 is 0.833\n",
      "[0, 1, 2, 3, 4, 5, 6, 7, 8, 9, 10, 11, 12, 13, 14, 15, 16, 17]\n",
      "[  1.19828805   7.2232911    1.79550195   4.00076384  -5.30274125\n",
      "  -5.40024361  -2.41911547  -4.54299236  -3.89837958  -2.77148807\n",
      "   9.9496199   -3.03958852 -20.7958446   -0.96685814   1.68125784\n",
      "   7.14701773  -5.34374539   5.37619344]\n",
      "p95\n",
      "['P', 'Temp.', 'Flow', 'Purge', 'Cool', 'P**2', 'Temp.**2', 'Flow**2', 'Purge**2', 'Cool**2', 'P*Flow', 'P*Purge', 'P*Cool', 'Temp.*Flow', 'Temp.*Purge', 'Temp.*Cool', 'Flow*Cool', 'Purge*Cool']\n",
      "Selected terms ['P', 'Temp.', 'Flow', 'Purge', 'Cool', 'P**2', 'Temp.**2', 'Flow**2', 'Purge**2', 'Cool**2', 'P*Flow', 'P*Purge', 'P*Cool', 'Temp.*Flow', 'Temp.*Purge', 'Temp.*Cool', 'Flow*Cool', 'Purge*Cool']\n",
      "Source List: ['P', 'Temp.', 'Flow', 'Purge', 'Cool', 0, 1, 2, 3, 4, [0, 1], [0, 2], [0, 3], [0, 4], [1, 2], [1, 3], [1, 4], [2, 3], [2, 4], [3, 4]]\n",
      "{0: {13, 11, 12, 5}, 1: {16, 15, 6, 14}, 2: {18, 11, 14, 7}, 3: {8, 19, 12, 15}, 4: {9, 13, 16, 18, 19}, 5: set(), 6: set(), 7: set(), 8: set(), 9: set(), 11: set(), 12: set(), 13: set(), 14: set(), 15: set(), 16: set(), 18: set(), 19: set()}\n",
      "[(14, 0.966858135937502), (0, 1.1982880494502022), (15, 1.6812578360509012), (2, 1.7955019466259732)]\n",
      "removing term Temp.*Flow (14) with error 0.966858135937502\n",
      "output_indices are [0, 1, 2, 3, 4, 5, 6, 7, 8, 9, 11, 12, 13, 15, 16, 18, 19]\n",
      "Selected input terms:\t['P', 'Temp.', 'Flow', 'Purge', 'Cool', 'P**2', 'Temp.**2', 'Flow**2', 'Purge**2', 'Cool**2', 'P*Flow', 'P*Purge', 'P*Cool', 'Temp.*Purge', 'Temp.*Cool', 'Flow*Cool', 'Purge*Cool']\n",
      "Averaging replicates\n",
      "Input data is 17 points long\n",
      "We are using 17 data points\n",
      "Left out data point 0:\tR2 = 0.995\tAve. Error = -3.44e+03\n",
      "Left out data point 1:\tR2 = 0.997\tAve. Error = -7.94e+03\n",
      "Left out data point 2:\tR2 = 0.997\tAve. Error = 8.08e+03\n",
      "Left out data point 3:\tR2 = 0.994\tAve. Error = -1.58e+03\n",
      "Left out data point 4:\tR2 = 0.994\tAve. Error = 8.63e+02\n",
      "Left out data point 5:\tR2 = 0.998\tAve. Error = 1.05e+04\n",
      "Left out data point 6:\tR2 = 0.995\tAve. Error = -5.5e+03\n",
      "Left out data point 7:\tR2 = 0.994\tAve. Error = -9.98e+02\n",
      "Left out data point 8:\tR2 = 0.995\tAve. Error = 3.44e+03\n",
      "Left out data point 9:\tR2 = 0.997\tAve. Error = 7.94e+03\n",
      "Left out data point 10:\tR2 = 0.997\tAve. Error = -8.08e+03\n",
      "Left out data point 11:\tR2 = 0.994\tAve. Error = 1.58e+03\n",
      "Left out data point 12:\tR2 = 0.994\tAve. Error = -8.62e+02\n",
      "Left out data point 13:\tR2 = 0.998\tAve. Error = -1.05e+04\n",
      "Left out data point 14:\tR2 = 0.995\tAve. Error = 5.5e+03\n",
      "Left out data point 15:\tR2 = 0.994\tAve. Error = 9.99e+02\n",
      "Left out data point 16:\tR2 = 0.994\tAve. Error = 2.06e+04\n",
      "R2 overall is 0.994\n",
      "Mean of test set: 5125.117647058823\n",
      "Mean being used: 5125.117647058823\n",
      "Sum of squares of the residuals (explained variance) is 993942105.6344371\n",
      "Sum of squares total (total variance) is 6145345403.764706\n",
      "Q2 is 0.838\n",
      "[0, 1, 2, 3, 4, 5, 6, 7, 8, 9, 10, 11, 12, 13, 14, 15, 16]\n",
      "[ -0.25        -0.25         0.25         0.25         0.25\n",
      "   0.25         0.25        -0.25        -0.25        -0.25\n",
      "   0.25        -3.03943994 -21.25401943   1.68579991  -0.25\n",
      "  -5.34714785   5.37640738]\n",
      "p95\n",
      "['P', 'Temp.', 'Flow', 'Purge', 'Cool', 'P**2', 'Temp.**2', 'Flow**2', 'Purge**2', 'Cool**2', 'P*Flow', 'P*Purge', 'P*Cool', 'Temp.*Purge', 'Temp.*Cool', 'Flow*Cool', 'Purge*Cool']\n",
      "Selected terms ['P', 'Temp.', 'Flow', 'Purge', 'Cool', 'P**2', 'Temp.**2', 'Flow**2', 'Purge**2', 'Cool**2', 'P*Flow', 'P*Purge', 'P*Cool', 'Temp.*Purge', 'Temp.*Cool', 'Flow*Cool', 'Purge*Cool']\n",
      "Source List: ['P', 'Temp.', 'Flow', 'Purge', 'Cool', 0, 1, 2, 3, 4, [0, 1], [0, 2], [0, 3], [0, 4], [1, 2], [1, 3], [1, 4], [2, 3], [2, 4], [3, 4]]\n",
      "{0: {13, 11, 12, 5}, 1: {16, 6, 15}, 2: {18, 11, 7}, 3: {8, 19, 12, 15}, 4: {9, 13, 16, 18, 19}, 5: set(), 6: set(), 7: set(), 8: set(), 9: set(), 11: set(), 12: set(), 13: set(), 15: set(), 16: set(), 18: set(), 19: set()}\n",
      "[(4, 0.24999999996776065), (16, 0.24999999999808795), (5, 0.24999999999880207), (6, 0.24999999999947334), (1, 0.24999999999953404), (0, 0.2499999999999037), (2, 0.2500000000001961), (7, 0.25000000000114553), (8, 0.2500000000015359), (3, 0.25000000000158423), (11, 0.2500000000020436), (9, 0.25000000000225187), (15, 1.6857999053710326)]\n",
      "removing term Temp.*Cool (16) with error 0.24999999999808795\n",
      "output_indices are [0, 1, 2, 3, 4, 5, 6, 7, 8, 9, 11, 12, 13, 15, 18, 19]\n",
      "Selected input terms:\t['P', 'Temp.', 'Flow', 'Purge', 'Cool', 'P**2', 'Temp.**2', 'Flow**2', 'Purge**2', 'Cool**2', 'P*Flow', 'P*Purge', 'P*Cool', 'Temp.*Purge', 'Flow*Cool', 'Purge*Cool']\n",
      "Averaging replicates\n",
      "Input data is 17 points long\n",
      "We are using 17 data points\n",
      "Left out data point 0:\tR2 = 0.995\tAve. Error = -3.44e+03\n",
      "Left out data point 1:\tR2 = 0.997\tAve. Error = -7.94e+03\n",
      "Left out data point 2:\tR2 = 0.997\tAve. Error = 8.08e+03\n",
      "Left out data point 3:\tR2 = 0.994\tAve. Error = -1.58e+03\n",
      "Left out data point 4:\tR2 = 0.994\tAve. Error = 8.63e+02\n",
      "Left out data point 5:\tR2 = 0.998\tAve. Error = 1.05e+04\n",
      "Left out data point 6:\tR2 = 0.995\tAve. Error = -5.5e+03\n",
      "Left out data point 7:\tR2 = 0.994\tAve. Error = -9.99e+02\n",
      "Left out data point 8:\tR2 = 0.995\tAve. Error = 3.44e+03\n",
      "Left out data point 9:\tR2 = 0.997\tAve. Error = 7.94e+03\n",
      "Left out data point 10:\tR2 = 0.997\tAve. Error = -8.08e+03\n",
      "Left out data point 11:\tR2 = 0.994\tAve. Error = 1.58e+03\n",
      "Left out data point 12:\tR2 = 0.994\tAve. Error = -8.62e+02\n",
      "Left out data point 13:\tR2 = 0.998\tAve. Error = -1.05e+04\n",
      "Left out data point 14:\tR2 = 0.995\tAve. Error = 5.5e+03\n",
      "Left out data point 15:\tR2 = 0.994\tAve. Error = 9.99e+02\n",
      "Left out data point 16:\tR2 = 0.994\tAve. Error = 1.4e+04\n",
      "R2 overall is 0.994\n",
      "Mean of test set: 5125.117647058823\n",
      "Mean being used: 5125.117647058823\n",
      "Sum of squares of the residuals (explained variance) is 768016049.6524768\n",
      "Sum of squares total (total variance) is 6145345403.764706\n",
      "Q2 is 0.875\n",
      "[0, 1, 2, 3, 4, 5, 6, 7, 8, 9, 10, 11, 12, 13, 14, 15]\n",
      "[ -2.7561859    2.00767041  -2.65779466   3.88017747  -2.24309053\n",
      " -10.63018053  -5.55925711 -10.84523412  -3.76464172  -5.14656352\n",
      "  17.78343098  -3.03958852 -21.25709849   1.68125784  -5.34374539\n",
      "   5.37619344]\n",
      "p95\n",
      "['P', 'Temp.', 'Flow', 'Purge', 'Cool', 'P**2', 'Temp.**2', 'Flow**2', 'Purge**2', 'Cool**2', 'P*Flow', 'P*Purge', 'P*Cool', 'Temp.*Purge', 'Flow*Cool', 'Purge*Cool']\n",
      "Selected terms ['P', 'Temp.', 'Flow', 'Purge', 'Cool', 'P**2', 'Temp.**2', 'Flow**2', 'Purge**2', 'Cool**2', 'P*Flow', 'P*Purge', 'P*Cool', 'Temp.*Purge', 'Flow*Cool', 'Purge*Cool']\n",
      "Source List: ['P', 'Temp.', 'Flow', 'Purge', 'Cool', 0, 1, 2, 3, 4, [0, 1], [0, 2], [0, 3], [0, 4], [1, 2], [1, 3], [1, 4], [2, 3], [2, 4], [3, 4]]\n",
      "{0: {13, 11, 12, 5}, 1: {6, 15}, 2: {18, 11, 7}, 3: {8, 19, 12, 15}, 4: {9, 18, 19, 13}, 5: set(), 6: set(), 7: set(), 8: set(), 9: set(), 11: set(), 12: set(), 13: set(), 15: set(), 18: set(), 19: set()}\n",
      "[(15, 1.681257836050873)]\n",
      "removing term Temp.*Purge (15) with error 1.681257836050873\n",
      "output_indices are [0, 1, 2, 3, 4, 5, 6, 7, 8, 9, 11, 12, 13, 18, 19]\n",
      "Selected input terms:\t['P', 'Temp.', 'Flow', 'Purge', 'Cool', 'P**2', 'Temp.**2', 'Flow**2', 'Purge**2', 'Cool**2', 'P*Flow', 'P*Purge', 'P*Cool', 'Flow*Cool', 'Purge*Cool']\n",
      "Averaging replicates\n",
      "Input data is 17 points long\n",
      "We are using 17 data points\n",
      "Left out data point 0:\tR2 = 0.993\tAve. Error = -8.02e+02\n",
      "Left out data point 1:\tR2 = 0.994\tAve. Error = -4.41e+03\n",
      "Left out data point 2:\tR2 = 0.994\tAve. Error = 4.51e+03\n",
      "Left out data point 3:\tR2 = 0.993\tAve. Error = -3.21e+03\n",
      "Left out data point 4:\tR2 = 0.993\tAve. Error = 2.64e+03\n",
      "Left out data point 5:\tR2 = 0.998\tAve. Error = 1.04e+04\n",
      "Left out data point 6:\tR2 = 0.995\tAve. Error = -6.35e+03\n",
      "Left out data point 7:\tR2 = 0.993\tAve. Error = -2.75e+03\n",
      "Left out data point 8:\tR2 = 0.993\tAve. Error = 8.02e+02\n",
      "Left out data point 9:\tR2 = 0.994\tAve. Error = 4.41e+03\n",
      "Left out data point 10:\tR2 = 0.994\tAve. Error = -4.51e+03\n",
      "Left out data point 11:\tR2 = 0.994\tAve. Error = 3.21e+03\n",
      "Left out data point 12:\tR2 = 0.993\tAve. Error = -2.64e+03\n",
      "Left out data point 13:\tR2 = 0.998\tAve. Error = -1.04e+04\n",
      "Left out data point 14:\tR2 = 0.995\tAve. Error = 6.35e+03\n",
      "Left out data point 15:\tR2 = 0.993\tAve. Error = 2.75e+03\n",
      "Left out data point 16:\tR2 = 0.993\tAve. Error = 1.45e+04\n",
      "R2 overall is 0.993\n",
      "Mean of test set: 5125.117647058823\n",
      "Mean being used: 5125.117647058823\n",
      "Sum of squares of the residuals (explained variance) is 637281740.4169672\n",
      "Sum of squares total (total variance) is 6145345403.764706\n",
      "Q2 is 0.896\n",
      "[0, 1, 2, 3, 4, 5, 6, 7, 8, 9, 10, 11, 12, 13, 14]\n",
      "[ -2.73655502   2.36270611  -2.72605017   4.19342447  -2.43995291\n",
      " -10.78440408  -5.41056122 -10.78364984  -3.56200707  -5.16791307\n",
      "  20.58380217  -3.51823497 -24.6044709   -6.18522928   6.22278695]\n",
      "p95\n",
      "['P', 'Temp.', 'Flow', 'Purge', 'Cool', 'P**2', 'Temp.**2', 'Flow**2', 'Purge**2', 'Cool**2', 'P*Flow', 'P*Purge', 'P*Cool', 'Flow*Cool', 'Purge*Cool']\n",
      "Selected terms ['P', 'Temp.', 'Flow', 'Purge', 'Cool', 'P**2', 'Temp.**2', 'Flow**2', 'Purge**2', 'Cool**2', 'P*Flow', 'P*Purge', 'P*Cool', 'Flow*Cool', 'Purge*Cool']\n",
      "Source List: ['P', 'Temp.', 'Flow', 'Purge', 'Cool', 0, 1, 2, 3, 4, [0, 1], [0, 2], [0, 3], [0, 4], [1, 2], [1, 3], [1, 4], [2, 3], [2, 4], [3, 4]]\n",
      "{0: {13, 11, 12, 5}, 1: {6}, 2: {18, 11, 7}, 3: {8, 19, 12}, 4: {9, 18, 19, 13}, 5: set(), 6: set(), 7: set(), 8: set(), 9: set(), 11: set(), 12: set(), 13: set(), 18: set(), 19: set()}\n",
      "0:\tP\tP\n",
      "1:\tTemp.\tTemp.\n",
      "2:\tFlow\tFlow\n",
      "3:\tPurge\tPurge\n",
      "4:\tCool\tCool\n",
      "5:\tP**2\t0\n",
      "6:\tTemp.**2\t1\n",
      "7:\tFlow**2\t2\n",
      "8:\tPurge**2\t3\n",
      "9:\tCool**2\t4\n",
      "10:\tP*Temp.\t[0, 1]\n",
      "11:\tP*Flow\t[0, 2]\n",
      "12:\tP*Purge\t[0, 3]\n",
      "13:\tP*Cool\t[0, 4]\n",
      "14:\tTemp.*Flow\t[1, 2]\n",
      "[(1, 2.3627061121393034), (4, 2.439952913856568), (2, 2.726050174137741), (0, 2.7365550159512235), (12, 3.5182349685595744), (8, 3.562007066395863), (3, 4.193424471398002), (9, 5.167913073960698), (6, 5.41056122109359), (18, 6.185229280652522), (19, 6.222786953362193), (7, 10.783649838169206), (5, 10.784404084320949), (11, 20.583802168277572), (13, 24.60447089675579)]\n",
      "removing term P*Purge (12) with error 3.5182349685595744\n",
      "output_indices are [0, 1, 2, 3, 4, 5, 6, 7, 8, 9, 11, 13, 18, 19]\n",
      "Selected input terms:\t['P', 'Temp.', 'Flow', 'Purge', 'Cool', 'P**2', 'Temp.**2', 'Flow**2', 'Purge**2', 'Cool**2', 'P*Flow', 'P*Cool', 'Flow*Cool', 'Purge*Cool']\n",
      "Averaging replicates\n",
      "Input data is 17 points long\n",
      "We are using 17 data points\n",
      "Left out data point 0:\tR2 = 0.991\tAve. Error = -3.6e+03\n",
      "Left out data point 1:\tR2 = 0.99\tAve. Error = -7.37e+02\n",
      "Left out data point 2:\tR2 = 0.99\tAve. Error = 8.27e+02\n",
      "Left out data point 3:\tR2 = 0.99\tAve. Error = 2.6e+02\n",
      "Left out data point 4:\tR2 = 0.99\tAve. Error = -7.37e+02\n",
      "Left out data point 5:\tR2 = 0.997\tAve. Error = 1.16e+04\n",
      "Left out data point 6:\tR2 = 0.994\tAve. Error = -8.23e+03\n",
      "Left out data point 7:\tR2 = 0.99\tAve. Error = 6.46e+02\n",
      "Left out data point 8:\tR2 = 0.991\tAve. Error = 3.6e+03\n",
      "Left out data point 9:\tR2 = 0.99\tAve. Error = 7.37e+02\n",
      "Left out data point 10:\tR2 = 0.99\tAve. Error = -8.27e+02\n",
      "Left out data point 11:\tR2 = 0.99\tAve. Error = -2.6e+02\n",
      "Left out data point 12:\tR2 = 0.99\tAve. Error = 7.37e+02\n",
      "Left out data point 13:\tR2 = 0.998\tAve. Error = -1.16e+04\n",
      "Left out data point 14:\tR2 = 0.994\tAve. Error = 8.23e+03\n",
      "Left out data point 15:\tR2 = 0.99\tAve. Error = -6.46e+02\n",
      "Left out data point 16:\tR2 = 0.989\tAve. Error = 1.39e+04\n",
      "R2 overall is 0.99\n",
      "Mean of test set: 5125.117647058823\n",
      "Mean being used: 5125.117647058823\n",
      "Sum of squares of the residuals (explained variance) is 627931506.0867667\n",
      "Sum of squares total (total variance) is 6145345403.764706\n",
      "Q2 is 0.898\n",
      "[0, 1, 2, 3, 4, 5, 6, 7, 8, 9, 10, 11, 12, 13]\n",
      "[ -3.23144575   2.27966204  -3.06041203   3.99786201  -2.39200561\n",
      " -11.35930076  -5.51904221 -11.317662    -3.79680524  -5.2081576\n",
      "  20.40049399 -24.38535682  -6.13014698   6.16737019]\n",
      "p95\n",
      "['P', 'Temp.', 'Flow', 'Purge', 'Cool', 'P**2', 'Temp.**2', 'Flow**2', 'Purge**2', 'Cool**2', 'P*Flow', 'P*Cool', 'Flow*Cool', 'Purge*Cool']\n",
      "Selected terms ['P', 'Temp.', 'Flow', 'Purge', 'Cool', 'P**2', 'Temp.**2', 'Flow**2', 'Purge**2', 'Cool**2', 'P*Flow', 'P*Cool', 'Flow*Cool', 'Purge*Cool']\n",
      "Source List: ['P', 'Temp.', 'Flow', 'Purge', 'Cool', 0, 1, 2, 3, 4, [0, 1], [0, 2], [0, 3], [0, 4], [1, 2], [1, 3], [1, 4], [2, 3], [2, 4], [3, 4]]\n",
      "{0: {13, 11, 5}, 1: {6}, 2: {18, 11, 7}, 3: {8, 19}, 4: {9, 18, 19, 13}, 5: set(), 6: set(), 7: set(), 8: set(), 9: set(), 11: set(), 13: set(), 18: set(), 19: set()}\n",
      "0:\tP\tP\n",
      "1:\tTemp.\tTemp.\n",
      "2:\tFlow\tFlow\n",
      "3:\tPurge\tPurge\n",
      "4:\tCool\tCool\n",
      "5:\tP**2\t0\n",
      "6:\tTemp.**2\t1\n",
      "7:\tFlow**2\t2\n",
      "8:\tPurge**2\t3\n",
      "9:\tCool**2\t4\n",
      "10:\tP*Temp.\t[0, 1]\n",
      "11:\tP*Flow\t[0, 2]\n",
      "12:\tP*Purge\t[0, 3]\n",
      "13:\tP*Cool\t[0, 4]\n",
      "[(1, 2.279662043179493), (4, 2.3920056100126352), (2, 3.0604120311534113), (0, 3.231445753942938), (8, 3.796805244046613), (3, 3.9978620106816876), (9, 5.208157604640961), (6, 5.519042206644542), (18, 6.130146982400406), (19, 6.1673701868412145), (7, 11.317662004570037), (5, 11.359300755283716), (11, 20.400493987003994), (13, 24.385356819851093)]\n",
      "removing term Purge**2 (8) with error 3.796805244046613\n",
      "output_indices are [0, 1, 2, 3, 4, 5, 6, 7, 9, 11, 13, 18, 19]\n",
      "Selected input terms:\t['P', 'Temp.', 'Flow', 'Purge', 'Cool', 'P**2', 'Temp.**2', 'Flow**2', 'Cool**2', 'P*Flow', 'P*Cool', 'Flow*Cool', 'Purge*Cool']\n",
      "Averaging replicates\n",
      "Input data is 17 points long\n",
      "We are using 17 data points\n",
      "Left out data point 0:\tR2 = 0.991\tAve. Error = -3.6e+03\n",
      "Left out data point 1:\tR2 = 0.99\tAve. Error = -7.37e+02\n",
      "Left out data point 2:\tR2 = 0.99\tAve. Error = 8.27e+02\n",
      "Left out data point 3:\tR2 = 0.99\tAve. Error = 2.6e+02\n",
      "Left out data point 4:\tR2 = 0.99\tAve. Error = -7.37e+02\n",
      "Left out data point 5:\tR2 = 0.997\tAve. Error = 1.16e+04\n",
      "Left out data point 6:\tR2 = 0.994\tAve. Error = -8.23e+03\n",
      "Left out data point 7:\tR2 = 0.99\tAve. Error = 6.46e+02\n",
      "Left out data point 8:\tR2 = 0.991\tAve. Error = 3.6e+03\n",
      "Left out data point 9:\tR2 = 0.99\tAve. Error = 7.37e+02\n",
      "Left out data point 10:\tR2 = 0.99\tAve. Error = -8.27e+02\n",
      "Left out data point 11:\tR2 = 0.99\tAve. Error = -2.6e+02\n",
      "Left out data point 12:\tR2 = 0.99\tAve. Error = 7.37e+02\n",
      "Left out data point 13:\tR2 = 0.998\tAve. Error = -1.16e+04\n",
      "Left out data point 14:\tR2 = 0.994\tAve. Error = 8.23e+03\n",
      "Left out data point 15:\tR2 = 0.99\tAve. Error = -6.46e+02\n",
      "Left out data point 16:\tR2 = 0.989\tAve. Error = 1.38e+04\n",
      "R2 overall is 0.99\n",
      "Mean of test set: 5125.117647058823\n",
      "Mean being used: 5125.117647058823\n",
      "Sum of squares of the residuals (explained variance) is 623295167.6792605\n",
      "Sum of squares total (total variance) is 6145345403.764706\n",
      "Q2 is 0.899\n",
      "[0, 1, 2, 3, 4, 5, 6, 7, 8, 9, 10, 11, 12]\n",
      "[-9.44936763e-02  3.02937410e+00 -2.13934086e-02  3.96331755e+00\n",
      " -3.08845884e+00 -8.00884539e+00 -4.76796648e+00 -7.97993508e+00\n",
      " -4.65227951e+00  2.04004940e+01 -2.43853568e+01 -6.13014698e+00\n",
      "  6.16737019e+00]\n",
      "p95\n",
      "['P', 'Temp.', 'Flow', 'Purge', 'Cool', 'P**2', 'Temp.**2', 'Flow**2', 'Cool**2', 'P*Flow', 'P*Cool', 'Flow*Cool', 'Purge*Cool']\n",
      "Selected terms ['P', 'Temp.', 'Flow', 'Purge', 'Cool', 'P**2', 'Temp.**2', 'Flow**2', 'Cool**2', 'P*Flow', 'P*Cool', 'Flow*Cool', 'Purge*Cool']\n",
      "Source List: ['P', 'Temp.', 'Flow', 'Purge', 'Cool', 0, 1, 2, 3, 4, [0, 1], [0, 2], [0, 3], [0, 4], [1, 2], [1, 3], [1, 4], [2, 3], [2, 4], [3, 4]]\n",
      "{0: {13, 11, 5}, 1: {6}, 2: {18, 11, 7}, 3: {19}, 4: {9, 18, 19, 13}, 5: set(), 6: set(), 7: set(), 9: set(), 11: set(), 13: set(), 18: set(), 19: set()}\n",
      "[(2, 0.02139340858369561), (0, 0.09449367628311539)]\n",
      "output_indices are [0, 1, 2, 3, 4, 5, 6, 7, 9, 11, 13, 18, 19]\n"
     ],
     "output_type": "stream"
    },
    {
     "data": {
      "text/plain": "<Figure size 432x288 with 0 Axes>"
     },
     "metadata": {},
     "output_type": "display_data"
    },
    {
     "data": {
      "text/plain": "<Figure size 1152x648 with 0 Axes>"
     },
     "metadata": {},
     "output_type": "display_data"
    },
    {
     "data": {
      "text/plain": "<Figure size 1152x648 with 0 Axes>"
     },
     "metadata": {},
     "output_type": "display_data"
    },
    {
     "data": {
      "text/plain": "<Figure size 1152x648 with 0 Axes>"
     },
     "metadata": {},
     "output_type": "display_data"
    },
    {
     "data": {
      "text/plain": "<Figure size 1152x648 with 0 Axes>"
     },
     "metadata": {},
     "output_type": "display_data"
    },
    {
     "data": {
      "text/plain": "<Figure size 1152x648 with 0 Axes>"
     },
     "metadata": {},
     "output_type": "display_data"
    },
    {
     "data": {
      "text/plain": "<Figure size 1152x648 with 0 Axes>"
     },
     "metadata": {},
     "output_type": "display_data"
    },
    {
     "data": {
      "text/plain": "<Figure size 1152x648 with 0 Axes>"
     },
     "metadata": {},
     "output_type": "display_data"
    },
    {
     "data": {
      "text/plain": "<Figure size 1152x648 with 1 Axes>",
      "image/png": "[encoded data removed]"
     },
     "metadata": {
      "needs_background": "light"
     },
     "output_type": "display_data"
    }
   ],
   "source": [
    "temp_tuple = doenut.autotune_model(\n",
    "    inputs = sat_inputs_orig, \n",
    "    responses = responses[['Profit']],\n",
    "    source_list = sat_source_list,\n",
    "    remove_significant = True)\n",
    "output_indices, new_model, predictions, ground_truth, coeffs, R2s, R2, Q2, R2_over_opt, Q2_over_opt, n_terms_over_opt, terms = temp_tuple"
   ]
  },
  {
   "cell_type": "code",
   "execution_count": 19,
   "metadata": {
    "pycharm": {
     "is_executing": false
    }
   },
   "outputs": [],
   "source": [
    "for x in terms:\n",
    "    if len(x) == 10:\n",
    "        print(x)"
   ]
  },
  {
   "cell_type": "code",
   "execution_count": 20,
   "metadata": {
    "pycharm": {
     "is_executing": false
    }
   },
   "outputs": [
    {
     "data": {
      "text/plain": "Text(0, 0.5, 'Correlation coefficient')"
     },
     "metadata": {},
     "output_type": "execute_result",
     "execution_count": 20
    },
    {
     "data": {
      "text/plain": "<Figure size 432x288 with 1 Axes>",
      "image/png": "[encoded data removed]"
     },
     "metadata": {
      "needs_background": "light"
     },
     "output_type": "display_data"
    }
   ],
   "source": [
    "ax = plt.axes()\n",
    "x_data = range(len(R2_over_opt))\n",
    "plt.plot(x_data, R2_over_opt)\n",
    "plt.plot(x_data, Q2_over_opt)\n",
    "#plt.set_xlabels(n_terms_over_opt)\n",
    "ax.set_xticks(x_data)\n",
    "ax.set_xticklabels(n_terms_over_opt)\n",
    "plt.legend([\"R$^2$\",\"Q$^2$\"])\n",
    "plt.ylim([0,1])\n",
    "plt.plot([x_data[0],x_data[-1]],[0.5,0.5], '-.')\n",
    "plt.xlabel('Number of terms')\n",
    "plt.ylabel(\"Correlation coefficient\")"
   ]
  },
  {
   "cell_type": "code",
   "execution_count": 21,
   "metadata": {
    "pycharm": {
     "is_executing": false
    }
   },
   "outputs": [],
   "source": [
    "input_selector = [0, 1, 2, 3, 4, 5, 6, 7, 9, 11, 13, 18, 19]"
   ]
  },
  {
   "cell_type": "code",
   "execution_count": 22,
   "metadata": {
    "pycharm": {
     "is_executing": false
    }
   },
   "outputs": [
    {
     "data": {
      "text/plain": "0     10901.0\n1    -12000.0\n2     -5222.0\n3     22675.0\n4    -12000.0\n5     54224.0\n6     -3558.0\n7     -6188.0\n8      5264.0\n9    -12000.0\n10    -6395.0\n11    14140.0\n12   -12000.0\n13    37206.0\n14    -5727.0\n15    -7225.0\n16    25032.0\nName: Profit, dtype: float64"
     },
     "metadata": {},
     "output_type": "execute_result",
     "execution_count": 22
    }
   ],
   "source": [
    "responses['Profit']"
   ]
  },
  {
   "cell_type": "code",
   "execution_count": 23,
   "metadata": {
    "pycharm": {
     "is_executing": false
    }
   },
   "outputs": [
    {
     "name": "stdout",
     "text": [
      "Input terms are ['P', 'Temp.', 'Flow', 'Purge', 'Cool', 'P**2', 'Temp.**2', 'Flow**2', 'Purge**2', 'Cool**2', 'P*Temp.', 'P*Flow', 'P*Purge', 'P*Cool', 'Temp.*Flow', 'Temp.*Purge', 'Temp.*Cool', 'Flow*Purge', 'Flow*Cool', 'Purge*Cool']\n",
      "Input Responses are ['Profit']\n",
      "\n",
      "Selected Response is Profit\n",
      "Selected input terms:\t['P', 'Temp.', 'Flow', 'Purge', 'Cool', 'P**2', 'Temp.**2', 'Flow**2', 'Cool**2', 'P*Flow', 'P*Cool', 'Flow*Cool', 'Purge*Cool']\n",
      "Averaging replicates\n",
      "Input data is 17 points long\n",
      "We are using 17 data points\n",
      "Left out data point 0:\tR2 = 0.991\tAve. Error = -3.6e+03\n",
      "Left out data point 1:\tR2 = 0.99\tAve. Error = -7.37e+02\n",
      "Left out data point 2:\tR2 = 0.99\tAve. Error = 8.27e+02\n",
      "Left out data point 3:\tR2 = 0.99\tAve. Error = 2.6e+02\n",
      "Left out data point 4:\tR2 = 0.99\tAve. Error = -7.37e+02\n",
      "Left out data point 5:\tR2 = 0.997\tAve. Error = 1.16e+04\n",
      "Left out data point 6:\tR2 = 0.994\tAve. Error = -8.23e+03\n",
      "Left out data point 7:\tR2 = 0.99\tAve. Error = 6.46e+02\n",
      "Left out data point 8:\tR2 = 0.991\tAve. Error = 3.6e+03\n",
      "Left out data point 9:\tR2 = 0.99\tAve. Error = 7.37e+02\n",
      "Left out data point 10:\tR2 = 0.99\tAve. Error = -8.27e+02\n",
      "Left out data point 11:\tR2 = 0.99\tAve. Error = -2.6e+02\n",
      "Left out data point 12:\tR2 = 0.99\tAve. Error = 7.37e+02\n",
      "Left out data point 13:\tR2 = 0.998\tAve. Error = -1.16e+04\n",
      "Left out data point 14:\tR2 = 0.994\tAve. Error = 8.23e+03\n",
      "Left out data point 15:\tR2 = 0.99\tAve. Error = -6.46e+02\n",
      "Left out data point 16:\tR2 = 0.989\tAve. Error = 1.38e+04\n",
      "R2 overall is 0.99\n",
      "Mean of test set: 5125.117647058823\n",
      "Mean being used: 5125.117647058823\n",
      "Sum of squares of the residuals (explained variance) is 623295167.6792605\n",
      "Sum of squares total (total variance) is 6145345403.764706\n",
      "Q2 is 0.899\n",
      "Response Profit R2 is 0.99\n",
      "[0, 1, 2, 3, 4, 5, 6, 7, 8, 9, 10, 11, 12]\n",
      "[-9.44936763e-02  3.02937410e+00 -2.13934086e-02  3.96331755e+00\n",
      " -3.08845884e+00 -8.00884539e+00 -4.76796648e+00 -7.97993508e+00\n",
      " -4.65227951e+00  2.04004940e+01 -2.43853568e+01 -6.13014698e+00\n",
      "  6.16737019e+00]\n",
      "p95\n",
      "['P', 'Temp.', 'Flow', 'Purge', 'Cool', 'P**2', 'Temp.**2', 'Flow**2', 'Cool**2', 'P*Flow', 'P*Cool', 'Flow*Cool', 'Purge*Cool']\n"
     ],
     "output_type": "stream"
    },
    {
     "data": {
      "text/plain": "<Figure size 432x288 with 1 Axes>",
      "image/png": "[encoded data removed]"
     },
     "metadata": {
      "needs_background": "light"
     },
     "output_type": "display_data"
    },
    {
     "data": {
      "text/plain": "<Figure size 1152x648 with 1 Axes>",
      "image/png": "[encoded data removed]"
     },
     "metadata": {
      "needs_background": "light"
     },
     "output_type": "display_data"
    }
   ],
   "source": [
    "#input_selector = [20, 32, 74, 77, 100, 104, 212, 218, 277, 280, 285, 288, 296, 347]\n",
    "this_model, R2, temp_tuple, _ = doenut.calulate_R2_and_Q2_for_models(\n",
    "                        sat_inputs_orig, \n",
    "                        responses[['Profit']], \n",
    "                       # input_selector=[2,3,6,7], \n",
    "                        input_selector=input_selector, \n",
    "                        response_selector=[0],\n",
    "                        use_scaled_inputs=True,\n",
    "                        do_scaling_here=True)\n",
    "new_model, predictions, ground_truth, coeffs, R2s, R2, Q2= temp_tuple"
   ]
  },
  {
   "cell_type": "code",
   "execution_count": 24,
   "metadata": {
    "pycharm": {
     "is_executing": false
    }
   },
   "outputs": [
    {
     "data": {
      "text/plain": "          Profit\n0   14504.666667\n1  -11263.333333\n2   -6049.333333\n3   22414.666667\n4  -11263.333333\n5   42653.000000\n6    4669.666667\n7   -6834.000000\n8    1660.333333\n9  -12736.666667\n10  -5567.666667\n11  14400.333333\n12 -12736.666667\n13  48777.000000\n14 -13954.666667\n15  -6579.000000\n16  11260.746958",
      "text/html": "<div>\n<style scoped>\n    .dataframe tbody tr th:only-of-type {\n        vertical-align: middle;\n    }\n\n    .dataframe tbody tr th {\n        vertical-align: top;\n    }\n\n    .dataframe thead th {\n        text-align: right;\n    }\n</style>\n<table border=\"1\" class=\"dataframe\">\n  <thead>\n    <tr style=\"text-align: right;\">\n      <th></th>\n      <th>Profit</th>\n    </tr>\n  </thead>\n  <tbody>\n    <tr>\n      <th>0</th>\n      <td>14504.666667</td>\n    </tr>\n    <tr>\n      <th>1</th>\n      <td>-11263.333333</td>\n    </tr>\n    <tr>\n      <th>2</th>\n      <td>-6049.333333</td>\n    </tr>\n    <tr>\n      <th>3</th>\n      <td>22414.666667</td>\n    </tr>\n    <tr>\n      <th>4</th>\n      <td>-11263.333333</td>\n    </tr>\n    <tr>\n      <th>5</th>\n      <td>42653.000000</td>\n    </tr>\n    <tr>\n      <th>6</th>\n      <td>4669.666667</td>\n    </tr>\n    <tr>\n      <th>7</th>\n      <td>-6834.000000</td>\n    </tr>\n    <tr>\n      <th>8</th>\n      <td>1660.333333</td>\n    </tr>\n    <tr>\n      <th>9</th>\n      <td>-12736.666667</td>\n    </tr>\n    <tr>\n      <th>10</th>\n      <td>-5567.666667</td>\n    </tr>\n    <tr>\n      <th>11</th>\n      <td>14400.333333</td>\n    </tr>\n    <tr>\n      <th>12</th>\n      <td>-12736.666667</td>\n    </tr>\n    <tr>\n      <th>13</th>\n      <td>48777.000000</td>\n    </tr>\n    <tr>\n      <th>14</th>\n      <td>-13954.666667</td>\n    </tr>\n    <tr>\n      <th>15</th>\n      <td>-6579.000000</td>\n    </tr>\n    <tr>\n      <th>16</th>\n      <td>11260.746958</td>\n    </tr>\n  </tbody>\n</table>\n</div>"
     },
     "metadata": {},
     "output_type": "execute_result",
     "execution_count": 24
    }
   ],
   "source": [
    "predictions"
   ]
  },
  {
   "cell_type": "code",
   "execution_count": 25,
   "metadata": {
    "pycharm": {
     "is_executing": false
    }
   },
   "outputs": [
    {
     "data": {
      "text/plain": "<Figure size 432x288 with 1 Axes>",
      "image/png": "[encoded data removed]"
     },
     "metadata": {
      "needs_background": "light"
     },
     "output_type": "display_data"
    }
   ],
   "source": [
    "doenut.plot_observed_vs_predicted(responses['Profit'], \n",
    "                               predictions['Profit'],\n",
    "                               range_x=[],\n",
    "                               label='profit')"
   ]
  },
  {
   "cell_type": "code",
   "execution_count": 26,
   "metadata": {
    "pycharm": {
     "is_executing": false
    }
   },
   "outputs": [
    {
     "data": {
      "text/plain": "(array([ 12252.37500025, -11723.74999973,  -5532.24999974,  22577.37500032,\n        -11723.75000052,  49884.87499965,   -472.62500012,  -6430.25000037,\n          3912.62500028, -12276.24999964,  -6084.74999965,  14237.62500036,\n        -12276.25000043,  41545.12499968,  -8812.37500009,  -6982.75000028,\n         25032.00000003]),\n ['P',\n  'Temp.',\n  'Flow',\n  'Purge',\n  'Cool',\n  'P**2',\n  'Temp.**2',\n  'Flow**2',\n  'Cool**2',\n  'P*Flow',\n  'P*Cool',\n  'Flow*Cool',\n  'Purge*Cool'])"
     },
     "metadata": {},
     "output_type": "execute_result",
     "execution_count": 26
    }
   ],
   "source": [
    "doenut.predict_from_model(this_model,\n",
    "                   sat_inputs_orig,\n",
    "                   input_selector)"
   ]
  },
  {
   "cell_type": "code",
   "execution_count": null,
   "metadata": {
    "pycharm": {
     "is_executing": true
    }
   },
   "outputs": [],
   "source": [
    "\n",
    "# PC4\n",
    "#['PC2', 'PC3', 'PC4', 'PC3*2', 'PC4*2', 'PC2*PC3', 'PC3*PC4']\n",
    "\n",
    "['P', 'Temp.', 'Flow', 'Purge', 'Cool', \n",
    " 'P**2', 'P*Flow', 'P*Cool', 'Flow*Cool', 'Purge*Cool']\n",
    "\n",
    "purge_constant = 25\n",
    "cooling_constant = 150\n",
    "\n",
    "n_points = 60\n",
    "def my_function(df_1):\n",
    "    df_1['Purge']=np.linspace(purge_constant, purge_constant, 3600)\n",
    "    df_1['Cool']=np.linspace(cooling_constant, cooling_constant, 3600)\n",
    "    \n",
    "    df_1['P**2'] = df_1['P']*df_1['P']\n",
    "    df_1['Temp.**2'] = df_1['Temp.']*df_1['Temp.']\n",
    "    df_1['Flow**2'] = df_1['Flow']*df_1['Flow']\n",
    "    df_1['Cool**2'] = df_1['Cool']*df_1['Cool']   \n",
    "    \n",
    "    df_1['P*Flow'] = df_1['P']*df_1['Flow']\n",
    "    df_1['P*Cool'] = df_1['P']*df_1['Cool']\n",
    "    df_1['Flow*Cool'] = df_1['Flow']*df_1['Cool']\n",
    "    df_1['Purge*Cool'] = df_1['Purge']*df_1['Cool']\n",
    "    return df_1\n",
    "\n",
    "x_key = 'P'\n",
    "y_key='Temp.'\n",
    "c_key=\"Flow\"\n",
    "\n",
    "doenut.four_D_contour_plot(\n",
    "    unscaled_model=this_model,\n",
    "    x_key=x_key,\n",
    "    y_key=y_key,\n",
    "    c_key=c_key,\n",
    "    x_limits=[inputs[x_key].min(),inputs[x_key].max()], \n",
    "    y_limits=[inputs[y_key].min(),inputs[y_key].max()], \n",
    "    constants=[inputs[c_key].min(),29.7,inputs[c_key].max()], \n",
    "    n_points=60,\n",
    "    my_function=my_function,\n",
    "    fig_label='Exp. 1',    \n",
    "    x_label='PC4',\n",
    "    y_label='PC3',\n",
    "    constant_label='PC2',\n",
    "    z_label = 'Yield %',\n",
    "    cmap='jet',\n",
    "    num_of_z_levels=11,\n",
    "    z_limits=[-100,100])"
   ]
  },
  {
   "cell_type": "code",
   "execution_count": 28,
   "metadata": {
    "pycharm": {
     "is_executing": false
    }
   },
   "outputs": [
    {
     "traceback": [
      "\u001b[1;31m---------------------------------------------------------------------------\u001b[0m",
      "\u001b[1;31mValueError\u001b[0m                                Traceback (most recent call last)",
      "\u001b[1;32m<ipython-input-28-3d9843444c13>\u001b[0m in \u001b[0;36m<module>\u001b[1;34m\u001b[0m\n\u001b[0;32m     22\u001b[0m     \u001b[0mcmap\u001b[0m\u001b[1;33m=\u001b[0m\u001b[1;34m'jet'\u001b[0m\u001b[1;33m,\u001b[0m\u001b[1;33m\u001b[0m\u001b[1;33m\u001b[0m\u001b[0m\n\u001b[0;32m     23\u001b[0m     \u001b[0mnum_of_z_levels\u001b[0m\u001b[1;33m=\u001b[0m\u001b[1;36m11\u001b[0m\u001b[1;33m,\u001b[0m\u001b[1;33m\u001b[0m\u001b[1;33m\u001b[0m\u001b[0m\n\u001b[1;32m---> 24\u001b[1;33m     z_limits=[0,100])\n\u001b[0m\u001b[0;32m     25\u001b[0m \u001b[1;33m\u001b[0m\u001b[0m\n",
      "\u001b[1;32m~\\OneDrive - University of Bristol\\Documents\\GitHub\\doenut\\doenut.py\u001b[0m in \u001b[0;36mfour_D_contour_plot\u001b[1;34m(unscaled_model, x_key, y_key, c_key, x_limits, y_limits, constants, n_points, my_function, fig_label, x_label, y_label, constant_label, z_label, cmap, num_of_z_levels, z_limits)\u001b[0m\n\u001b[0;32m    800\u001b[0m         \u001b[0mconstant\u001b[0m\u001b[1;33m=\u001b[0m\u001b[0mconstants\u001b[0m\u001b[1;33m[\u001b[0m\u001b[1;36m0\u001b[0m\u001b[1;33m]\u001b[0m\u001b[1;33m,\u001b[0m\u001b[1;33m\u001b[0m\u001b[1;33m\u001b[0m\u001b[0m\n\u001b[0;32m    801\u001b[0m         \u001b[0mn_points\u001b[0m\u001b[1;33m=\u001b[0m\u001b[0mn_points\u001b[0m\u001b[1;33m,\u001b[0m\u001b[1;33m\u001b[0m\u001b[1;33m\u001b[0m\u001b[0m\n\u001b[1;32m--> 802\u001b[1;33m         my_function=my_function)\n\u001b[0m\u001b[0;32m    803\u001b[0m     X_2,Y_2,Z_2 = map_chemical_space(\n\u001b[0;32m    804\u001b[0m         \u001b[0munscaled_model\u001b[0m\u001b[1;33m=\u001b[0m\u001b[0munscaled_model\u001b[0m\u001b[1;33m,\u001b[0m\u001b[1;33m\u001b[0m\u001b[1;33m\u001b[0m\u001b[0m\n",
      "\u001b[1;32m~\\OneDrive - University of Bristol\\Documents\\GitHub\\doenut\\doenut.py\u001b[0m in \u001b[0;36mmap_chemical_space\u001b[1;34m(unscaled_model, x_key, y_key, c_key, x_limits, y_limits, constant, n_points, my_function)\u001b[0m\n\u001b[0;32m    692\u001b[0m \u001b[1;33m\u001b[0m\u001b[0m\n\u001b[0;32m    693\u001b[0m     \u001b[0mX\u001b[0m\u001b[1;33m,\u001b[0m \u001b[0mY\u001b[0m \u001b[1;33m=\u001b[0m \u001b[0mnp\u001b[0m\u001b[1;33m.\u001b[0m\u001b[0mmeshgrid\u001b[0m\u001b[1;33m(\u001b[0m\u001b[0mx\u001b[0m\u001b[1;33m,\u001b[0m \u001b[0my\u001b[0m\u001b[1;33m)\u001b[0m\u001b[1;33m\u001b[0m\u001b[1;33m\u001b[0m\u001b[0m\n\u001b[1;32m--> 694\u001b[1;33m     \u001b[0mZ\u001b[0m \u001b[1;33m=\u001b[0m \u001b[0mfn\u001b[0m\u001b[1;33m(\u001b[0m\u001b[0mX\u001b[0m\u001b[1;33m,\u001b[0m \u001b[0mY\u001b[0m\u001b[1;33m,\u001b[0m \u001b[0mconstant\u001b[0m\u001b[1;33m,\u001b[0m \u001b[0munscaled_model\u001b[0m\u001b[1;33m,\u001b[0m \u001b[0mmy_function\u001b[0m\u001b[1;33m)\u001b[0m\u001b[1;33m\u001b[0m\u001b[1;33m\u001b[0m\u001b[0m\n\u001b[0m\u001b[0;32m    695\u001b[0m     \u001b[1;31m#print(Z.shape)\u001b[0m\u001b[1;33m\u001b[0m\u001b[1;33m\u001b[0m\u001b[1;33m\u001b[0m\u001b[0m\n\u001b[0;32m    696\u001b[0m     \u001b[1;31m#print(Z)\u001b[0m\u001b[1;33m\u001b[0m\u001b[1;33m\u001b[0m\u001b[1;33m\u001b[0m\u001b[0m\n",
      "\u001b[1;32m~\\OneDrive - University of Bristol\\Documents\\GitHub\\doenut\\doenut.py\u001b[0m in \u001b[0;36mfn\u001b[1;34m(x, y, c, unscaled_model, my_function)\u001b[0m\n\u001b[0;32m    688\u001b[0m         \u001b[0mdf_1\u001b[0m \u001b[1;33m=\u001b[0m \u001b[0mmy_function\u001b[0m\u001b[1;33m(\u001b[0m\u001b[0mdf_1\u001b[0m\u001b[1;33m)\u001b[0m\u001b[1;33m\u001b[0m\u001b[1;33m\u001b[0m\u001b[0m\n\u001b[0;32m    689\u001b[0m         \u001b[1;31m#print(df_1)\u001b[0m\u001b[1;33m\u001b[0m\u001b[1;33m\u001b[0m\u001b[1;33m\u001b[0m\u001b[0m\n\u001b[1;32m--> 690\u001b[1;33m         \u001b[0mz\u001b[0m \u001b[1;33m=\u001b[0m \u001b[0munscaled_model\u001b[0m\u001b[1;33m.\u001b[0m\u001b[0mpredict\u001b[0m\u001b[1;33m(\u001b[0m\u001b[0mdf_1\u001b[0m\u001b[1;33m)\u001b[0m\u001b[1;33m\u001b[0m\u001b[1;33m\u001b[0m\u001b[0m\n\u001b[0m\u001b[0;32m    691\u001b[0m         \u001b[1;32mreturn\u001b[0m \u001b[0mz\u001b[0m\u001b[1;33m\u001b[0m\u001b[1;33m\u001b[0m\u001b[0m\n\u001b[0;32m    692\u001b[0m \u001b[1;33m\u001b[0m\u001b[0m\n",
      "\u001b[1;32mC:\\ProgramData\\Anaconda3\\envs\\datascience\\lib\\site-packages\\sklearn\\linear_model\\_base.py\u001b[0m in \u001b[0;36mpredict\u001b[1;34m(self, X)\u001b[0m\n\u001b[0;32m    234\u001b[0m             \u001b[0mReturns\u001b[0m \u001b[0mpredicted\u001b[0m \u001b[0mvalues\u001b[0m\u001b[1;33m.\u001b[0m\u001b[1;33m\u001b[0m\u001b[1;33m\u001b[0m\u001b[0m\n\u001b[0;32m    235\u001b[0m         \"\"\"\n\u001b[1;32m--> 236\u001b[1;33m         \u001b[1;32mreturn\u001b[0m \u001b[0mself\u001b[0m\u001b[1;33m.\u001b[0m\u001b[0m_decision_function\u001b[0m\u001b[1;33m(\u001b[0m\u001b[0mX\u001b[0m\u001b[1;33m)\u001b[0m\u001b[1;33m\u001b[0m\u001b[1;33m\u001b[0m\u001b[0m\n\u001b[0m\u001b[0;32m    237\u001b[0m \u001b[1;33m\u001b[0m\u001b[0m\n\u001b[0;32m    238\u001b[0m     \u001b[0m_preprocess_data\u001b[0m \u001b[1;33m=\u001b[0m \u001b[0mstaticmethod\u001b[0m\u001b[1;33m(\u001b[0m\u001b[0m_preprocess_data\u001b[0m\u001b[1;33m)\u001b[0m\u001b[1;33m\u001b[0m\u001b[1;33m\u001b[0m\u001b[0m\n",
      "\u001b[1;32mC:\\ProgramData\\Anaconda3\\envs\\datascience\\lib\\site-packages\\sklearn\\linear_model\\_base.py\u001b[0m in \u001b[0;36m_decision_function\u001b[1;34m(self, X)\u001b[0m\n\u001b[0;32m    218\u001b[0m         \u001b[0mX\u001b[0m \u001b[1;33m=\u001b[0m \u001b[0mcheck_array\u001b[0m\u001b[1;33m(\u001b[0m\u001b[0mX\u001b[0m\u001b[1;33m,\u001b[0m \u001b[0maccept_sparse\u001b[0m\u001b[1;33m=\u001b[0m\u001b[1;33m[\u001b[0m\u001b[1;34m'csr'\u001b[0m\u001b[1;33m,\u001b[0m \u001b[1;34m'csc'\u001b[0m\u001b[1;33m,\u001b[0m \u001b[1;34m'coo'\u001b[0m\u001b[1;33m]\u001b[0m\u001b[1;33m)\u001b[0m\u001b[1;33m\u001b[0m\u001b[1;33m\u001b[0m\u001b[0m\n\u001b[0;32m    219\u001b[0m         return safe_sparse_dot(X, self.coef_.T,\n\u001b[1;32m--> 220\u001b[1;33m                                dense_output=True) + self.intercept_\n\u001b[0m\u001b[0;32m    221\u001b[0m \u001b[1;33m\u001b[0m\u001b[0m\n\u001b[0;32m    222\u001b[0m     \u001b[1;32mdef\u001b[0m \u001b[0mpredict\u001b[0m\u001b[1;33m(\u001b[0m\u001b[0mself\u001b[0m\u001b[1;33m,\u001b[0m \u001b[0mX\u001b[0m\u001b[1;33m)\u001b[0m\u001b[1;33m:\u001b[0m\u001b[1;33m\u001b[0m\u001b[1;33m\u001b[0m\u001b[0m\n",
      "\u001b[1;32mC:\\ProgramData\\Anaconda3\\envs\\datascience\\lib\\site-packages\\sklearn\\utils\\validation.py\u001b[0m in \u001b[0;36minner_f\u001b[1;34m(*args, **kwargs)\u001b[0m\n\u001b[0;32m     70\u001b[0m                           FutureWarning)\n\u001b[0;32m     71\u001b[0m         \u001b[0mkwargs\u001b[0m\u001b[1;33m.\u001b[0m\u001b[0mupdate\u001b[0m\u001b[1;33m(\u001b[0m\u001b[1;33m{\u001b[0m\u001b[0mk\u001b[0m\u001b[1;33m:\u001b[0m \u001b[0marg\u001b[0m \u001b[1;32mfor\u001b[0m \u001b[0mk\u001b[0m\u001b[1;33m,\u001b[0m \u001b[0marg\u001b[0m \u001b[1;32min\u001b[0m \u001b[0mzip\u001b[0m\u001b[1;33m(\u001b[0m\u001b[0msig\u001b[0m\u001b[1;33m.\u001b[0m\u001b[0mparameters\u001b[0m\u001b[1;33m,\u001b[0m \u001b[0margs\u001b[0m\u001b[1;33m)\u001b[0m\u001b[1;33m}\u001b[0m\u001b[1;33m)\u001b[0m\u001b[1;33m\u001b[0m\u001b[1;33m\u001b[0m\u001b[0m\n\u001b[1;32m---> 72\u001b[1;33m         \u001b[1;32mreturn\u001b[0m \u001b[0mf\u001b[0m\u001b[1;33m(\u001b[0m\u001b[1;33m**\u001b[0m\u001b[0mkwargs\u001b[0m\u001b[1;33m)\u001b[0m\u001b[1;33m\u001b[0m\u001b[1;33m\u001b[0m\u001b[0m\n\u001b[0m\u001b[0;32m     73\u001b[0m     \u001b[1;32mreturn\u001b[0m \u001b[0minner_f\u001b[0m\u001b[1;33m\u001b[0m\u001b[1;33m\u001b[0m\u001b[0m\n\u001b[0;32m     74\u001b[0m \u001b[1;33m\u001b[0m\u001b[0m\n",
      "\u001b[1;32mC:\\ProgramData\\Anaconda3\\envs\\datascience\\lib\\site-packages\\sklearn\\utils\\extmath.py\u001b[0m in \u001b[0;36msafe_sparse_dot\u001b[1;34m(a, b, dense_output)\u001b[0m\n\u001b[0;32m    151\u001b[0m             \u001b[0mret\u001b[0m \u001b[1;33m=\u001b[0m \u001b[0mnp\u001b[0m\u001b[1;33m.\u001b[0m\u001b[0mdot\u001b[0m\u001b[1;33m(\u001b[0m\u001b[0ma\u001b[0m\u001b[1;33m,\u001b[0m \u001b[0mb\u001b[0m\u001b[1;33m)\u001b[0m\u001b[1;33m\u001b[0m\u001b[1;33m\u001b[0m\u001b[0m\n\u001b[0;32m    152\u001b[0m     \u001b[1;32melse\u001b[0m\u001b[1;33m:\u001b[0m\u001b[1;33m\u001b[0m\u001b[1;33m\u001b[0m\u001b[0m\n\u001b[1;32m--> 153\u001b[1;33m         \u001b[0mret\u001b[0m \u001b[1;33m=\u001b[0m \u001b[0ma\u001b[0m \u001b[1;33m@\u001b[0m \u001b[0mb\u001b[0m\u001b[1;33m\u001b[0m\u001b[1;33m\u001b[0m\u001b[0m\n\u001b[0m\u001b[0;32m    154\u001b[0m \u001b[1;33m\u001b[0m\u001b[0m\n\u001b[0;32m    155\u001b[0m     if (sparse.issparse(a) and sparse.issparse(b)\n",
      "\u001b[1;31mValueError\u001b[0m: matmul: Input operand 1 has a mismatch in its core dimension 0, with gufunc signature (n?,k),(k,m?)->(n?,m?) (size 5 is different from 3)"
     ],
     "ename": "ValueError",
     "evalue": "matmul: Input operand 1 has a mismatch in its core dimension 0, with gufunc signature (n?,k),(k,m?)->(n?,m?) (size 5 is different from 3)",
     "output_type": "error"
    }
   ],
   "source": [
    "def my_function(df_1):\n",
    "    \"\"\"This function is for including the extra terms in your model\n",
    "    This model has no extra terms so is an empty function\"\"\"\n",
    "    pass\n",
    "    return df_1\n",
    "\n",
    "doenut.four_D_contour_plot(\n",
    "    unscaled_model=original_model,\n",
    "    x_key='Time',\n",
    "    y_key='Temp',\n",
    "    c_key='Eq',\n",
    "    x_limits=[0.5,3.0], \n",
    "    y_limits=[30,70], \n",
    "    constants=[2,6,10], \n",
    "    n_points=60,\n",
    "    my_function=my_function,\n",
    "    fig_label='ortho',    \n",
    "    x_label='Res. time / min',\n",
    "    y_label='Temperature deg. C',\n",
    "    constant_label='[2] Equiv.',\n",
    "    z_label = 'Yield [5] %',\n",
    "    cmap='jet',\n",
    "    num_of_z_levels=11,\n",
    "    z_limits=[0,100])"
   ]
  },
  {
   "cell_type": "code",
   "execution_count": null,
   "metadata": {
    "pycharm": {
     "is_executing": false
    }
   },
   "outputs": [],
   "source": []
  }
 ],
 "metadata": {
  "kernelspec": {
   "display_name": "Python 3",
   "language": "python",
   "name": "python3"
  },
  "language_info": {
   "codemirror_mode": {
    "name": "ipython",
    "version": 3
   },
   "file_extension": ".py",
   "mimetype": "text/x-python",
   "name": "python",
   "nbconvert_exporter": "python",
   "pygments_lexer": "ipython3",
   "version": "3.7.9"
  },
  "pycharm": {
   "stem_cell": {
    "cell_type": "raw",
    "source": [],
    "metadata": {
     "collapsed": false
    }
   }
  }
 },
 "nbformat": 4,
 "nbformat_minor": 5
}